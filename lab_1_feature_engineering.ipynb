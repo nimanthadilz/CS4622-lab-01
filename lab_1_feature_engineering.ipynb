{
  "nbformat": 4,
  "nbformat_minor": 0,
  "metadata": {
    "colab": {
      "provenance": [],
      "mount_file_id": "1fvp88YUKw1gj91miVnxSyLv--DunTGe5",
      "authorship_tag": "ABX9TyPSllz15rEqXtM+6AxS5NKO",
      "include_colab_link": true
    },
    "kernelspec": {
      "name": "python3",
      "display_name": "Python 3"
    },
    "language_info": {
      "name": "python"
    }
  },
  "cells": [
    {
      "cell_type": "markdown",
      "metadata": {
        "id": "view-in-github",
        "colab_type": "text"
      },
      "source": [
        "<a href=\"https://colab.research.google.com/github/nimanthadilz/CS4622-lab-01/blob/main/lab_1_feature_engineering.ipynb\" target=\"_parent\"><img src=\"https://colab.research.google.com/assets/colab-badge.svg\" alt=\"Open In Colab\"/></a>"
      ]
    },
    {
      "cell_type": "code",
      "execution_count": null,
      "metadata": {
        "id": "g0Q0ap4SiE1G"
      },
      "outputs": [],
      "source": [
        "datasets_path = \"/content/drive/MyDrive/colab-data/lab-1-feature-engineering/\"\n",
        "models_path = \"/content/drive/MyDrive/colab-data/lab-1-feature-engineering/models/\""
      ]
    },
    {
      "cell_type": "code",
      "source": [
        "import pandas as pd\n",
        "import numpy as np\n",
        "import matplotlib.pyplot as plt"
      ],
      "metadata": {
        "id": "mC-5sJJYjrTG"
      },
      "execution_count": null,
      "outputs": []
    },
    {
      "cell_type": "markdown",
      "source": [
        "## Dataset Exploration"
      ],
      "metadata": {
        "id": "ncGdo2ToWBOH"
      }
    },
    {
      "cell_type": "code",
      "source": [
        "train_df = pd.read_csv(datasets_path + \"train.csv\")\n",
        "valid_df = pd.read_csv(datasets_path + \"valid.csv\")\n",
        "test_df = pd.read_csv(datasets_path + \"test.csv\")\n",
        "train_df.head()"
      ],
      "metadata": {
        "colab": {
          "base_uri": "https://localhost:8080/",
          "height": 256
        },
        "id": "-8IdKmPAjvml",
        "outputId": "3a888203-b944-4b5f-96ee-8629fa43a691"
      },
      "execution_count": null,
      "outputs": [
        {
          "output_type": "execute_result",
          "data": {
            "text/plain": [
              "   feature_1  feature_2  feature_3  feature_4  feature_5  feature_6  \\\n",
              "0  -1.928826  -0.291540   1.105909   2.070652   0.657838  -0.670940   \n",
              "1  -1.709277  -1.008998   0.956611   4.313823  -0.669455   1.928765   \n",
              "2  -1.906183  -0.357562  -0.682627   4.651838  -0.884940   1.159512   \n",
              "3   0.697872  -2.218567  -0.572214   1.192062   0.329554   0.741364   \n",
              "4  -1.976895  -0.496308   0.368102   3.739787  -0.132058   1.234980   \n",
              "\n",
              "   feature_7  feature_8  feature_9  feature_10  ...  feature_251  feature_252  \\\n",
              "0  -0.968238   0.049916   1.111149   -1.834592  ...    -0.691538    -1.152522   \n",
              "1   0.162550   0.152173   2.356505   -2.898549  ...    -0.668235    -0.532695   \n",
              "2   1.354481  -1.432248   2.160144   -3.175735  ...    -0.026728     0.440408   \n",
              "3   0.962354   0.993512   2.896854   -1.600380  ...     0.709032     0.812106   \n",
              "4  -0.501003   0.881554   1.630941   -3.853953  ...    -0.599700    -1.024829   \n",
              "\n",
              "   feature_253  feature_254  feature_255  feature_256  label_1  label_2  \\\n",
              "0     0.441157    -1.494434    -0.344974    -0.395641       45      NaN   \n",
              "1     0.151163    -1.876885     1.651534    -2.706490       45      NaN   \n",
              "2     2.745906    -0.680754    -0.643588    -2.587203       45      NaN   \n",
              "3     1.055266    -0.915258    -0.924856    -1.318964       45      NaN   \n",
              "4     1.869753    -2.498570     3.268253    -1.356606       45      NaN   \n",
              "\n",
              "   label_3  label_4  \n",
              "0        1        6  \n",
              "1        1        6  \n",
              "2        1        6  \n",
              "3        1        6  \n",
              "4        1        6  \n",
              "\n",
              "[5 rows x 260 columns]"
            ],
            "text/html": [
              "\n",
              "  <div id=\"df-712cfa5c-5825-441a-a227-881efa090843\" class=\"colab-df-container\">\n",
              "    <div>\n",
              "<style scoped>\n",
              "    .dataframe tbody tr th:only-of-type {\n",
              "        vertical-align: middle;\n",
              "    }\n",
              "\n",
              "    .dataframe tbody tr th {\n",
              "        vertical-align: top;\n",
              "    }\n",
              "\n",
              "    .dataframe thead th {\n",
              "        text-align: right;\n",
              "    }\n",
              "</style>\n",
              "<table border=\"1\" class=\"dataframe\">\n",
              "  <thead>\n",
              "    <tr style=\"text-align: right;\">\n",
              "      <th></th>\n",
              "      <th>feature_1</th>\n",
              "      <th>feature_2</th>\n",
              "      <th>feature_3</th>\n",
              "      <th>feature_4</th>\n",
              "      <th>feature_5</th>\n",
              "      <th>feature_6</th>\n",
              "      <th>feature_7</th>\n",
              "      <th>feature_8</th>\n",
              "      <th>feature_9</th>\n",
              "      <th>feature_10</th>\n",
              "      <th>...</th>\n",
              "      <th>feature_251</th>\n",
              "      <th>feature_252</th>\n",
              "      <th>feature_253</th>\n",
              "      <th>feature_254</th>\n",
              "      <th>feature_255</th>\n",
              "      <th>feature_256</th>\n",
              "      <th>label_1</th>\n",
              "      <th>label_2</th>\n",
              "      <th>label_3</th>\n",
              "      <th>label_4</th>\n",
              "    </tr>\n",
              "  </thead>\n",
              "  <tbody>\n",
              "    <tr>\n",
              "      <th>0</th>\n",
              "      <td>-1.928826</td>\n",
              "      <td>-0.291540</td>\n",
              "      <td>1.105909</td>\n",
              "      <td>2.070652</td>\n",
              "      <td>0.657838</td>\n",
              "      <td>-0.670940</td>\n",
              "      <td>-0.968238</td>\n",
              "      <td>0.049916</td>\n",
              "      <td>1.111149</td>\n",
              "      <td>-1.834592</td>\n",
              "      <td>...</td>\n",
              "      <td>-0.691538</td>\n",
              "      <td>-1.152522</td>\n",
              "      <td>0.441157</td>\n",
              "      <td>-1.494434</td>\n",
              "      <td>-0.344974</td>\n",
              "      <td>-0.395641</td>\n",
              "      <td>45</td>\n",
              "      <td>NaN</td>\n",
              "      <td>1</td>\n",
              "      <td>6</td>\n",
              "    </tr>\n",
              "    <tr>\n",
              "      <th>1</th>\n",
              "      <td>-1.709277</td>\n",
              "      <td>-1.008998</td>\n",
              "      <td>0.956611</td>\n",
              "      <td>4.313823</td>\n",
              "      <td>-0.669455</td>\n",
              "      <td>1.928765</td>\n",
              "      <td>0.162550</td>\n",
              "      <td>0.152173</td>\n",
              "      <td>2.356505</td>\n",
              "      <td>-2.898549</td>\n",
              "      <td>...</td>\n",
              "      <td>-0.668235</td>\n",
              "      <td>-0.532695</td>\n",
              "      <td>0.151163</td>\n",
              "      <td>-1.876885</td>\n",
              "      <td>1.651534</td>\n",
              "      <td>-2.706490</td>\n",
              "      <td>45</td>\n",
              "      <td>NaN</td>\n",
              "      <td>1</td>\n",
              "      <td>6</td>\n",
              "    </tr>\n",
              "    <tr>\n",
              "      <th>2</th>\n",
              "      <td>-1.906183</td>\n",
              "      <td>-0.357562</td>\n",
              "      <td>-0.682627</td>\n",
              "      <td>4.651838</td>\n",
              "      <td>-0.884940</td>\n",
              "      <td>1.159512</td>\n",
              "      <td>1.354481</td>\n",
              "      <td>-1.432248</td>\n",
              "      <td>2.160144</td>\n",
              "      <td>-3.175735</td>\n",
              "      <td>...</td>\n",
              "      <td>-0.026728</td>\n",
              "      <td>0.440408</td>\n",
              "      <td>2.745906</td>\n",
              "      <td>-0.680754</td>\n",
              "      <td>-0.643588</td>\n",
              "      <td>-2.587203</td>\n",
              "      <td>45</td>\n",
              "      <td>NaN</td>\n",
              "      <td>1</td>\n",
              "      <td>6</td>\n",
              "    </tr>\n",
              "    <tr>\n",
              "      <th>3</th>\n",
              "      <td>0.697872</td>\n",
              "      <td>-2.218567</td>\n",
              "      <td>-0.572214</td>\n",
              "      <td>1.192062</td>\n",
              "      <td>0.329554</td>\n",
              "      <td>0.741364</td>\n",
              "      <td>0.962354</td>\n",
              "      <td>0.993512</td>\n",
              "      <td>2.896854</td>\n",
              "      <td>-1.600380</td>\n",
              "      <td>...</td>\n",
              "      <td>0.709032</td>\n",
              "      <td>0.812106</td>\n",
              "      <td>1.055266</td>\n",
              "      <td>-0.915258</td>\n",
              "      <td>-0.924856</td>\n",
              "      <td>-1.318964</td>\n",
              "      <td>45</td>\n",
              "      <td>NaN</td>\n",
              "      <td>1</td>\n",
              "      <td>6</td>\n",
              "    </tr>\n",
              "    <tr>\n",
              "      <th>4</th>\n",
              "      <td>-1.976895</td>\n",
              "      <td>-0.496308</td>\n",
              "      <td>0.368102</td>\n",
              "      <td>3.739787</td>\n",
              "      <td>-0.132058</td>\n",
              "      <td>1.234980</td>\n",
              "      <td>-0.501003</td>\n",
              "      <td>0.881554</td>\n",
              "      <td>1.630941</td>\n",
              "      <td>-3.853953</td>\n",
              "      <td>...</td>\n",
              "      <td>-0.599700</td>\n",
              "      <td>-1.024829</td>\n",
              "      <td>1.869753</td>\n",
              "      <td>-2.498570</td>\n",
              "      <td>3.268253</td>\n",
              "      <td>-1.356606</td>\n",
              "      <td>45</td>\n",
              "      <td>NaN</td>\n",
              "      <td>1</td>\n",
              "      <td>6</td>\n",
              "    </tr>\n",
              "  </tbody>\n",
              "</table>\n",
              "<p>5 rows × 260 columns</p>\n",
              "</div>\n",
              "    <div class=\"colab-df-buttons\">\n",
              "\n",
              "  <div class=\"colab-df-container\">\n",
              "    <button class=\"colab-df-convert\" onclick=\"convertToInteractive('df-712cfa5c-5825-441a-a227-881efa090843')\"\n",
              "            title=\"Convert this dataframe to an interactive table.\"\n",
              "            style=\"display:none;\">\n",
              "\n",
              "  <svg xmlns=\"http://www.w3.org/2000/svg\" height=\"24px\" viewBox=\"0 -960 960 960\">\n",
              "    <path d=\"M120-120v-720h720v720H120Zm60-500h600v-160H180v160Zm220 220h160v-160H400v160Zm0 220h160v-160H400v160ZM180-400h160v-160H180v160Zm440 0h160v-160H620v160ZM180-180h160v-160H180v160Zm440 0h160v-160H620v160Z\"/>\n",
              "  </svg>\n",
              "    </button>\n",
              "\n",
              "  <style>\n",
              "    .colab-df-container {\n",
              "      display:flex;\n",
              "      gap: 12px;\n",
              "    }\n",
              "\n",
              "    .colab-df-convert {\n",
              "      background-color: #E8F0FE;\n",
              "      border: none;\n",
              "      border-radius: 50%;\n",
              "      cursor: pointer;\n",
              "      display: none;\n",
              "      fill: #1967D2;\n",
              "      height: 32px;\n",
              "      padding: 0 0 0 0;\n",
              "      width: 32px;\n",
              "    }\n",
              "\n",
              "    .colab-df-convert:hover {\n",
              "      background-color: #E2EBFA;\n",
              "      box-shadow: 0px 1px 2px rgba(60, 64, 67, 0.3), 0px 1px 3px 1px rgba(60, 64, 67, 0.15);\n",
              "      fill: #174EA6;\n",
              "    }\n",
              "\n",
              "    .colab-df-buttons div {\n",
              "      margin-bottom: 4px;\n",
              "    }\n",
              "\n",
              "    [theme=dark] .colab-df-convert {\n",
              "      background-color: #3B4455;\n",
              "      fill: #D2E3FC;\n",
              "    }\n",
              "\n",
              "    [theme=dark] .colab-df-convert:hover {\n",
              "      background-color: #434B5C;\n",
              "      box-shadow: 0px 1px 3px 1px rgba(0, 0, 0, 0.15);\n",
              "      filter: drop-shadow(0px 1px 2px rgba(0, 0, 0, 0.3));\n",
              "      fill: #FFFFFF;\n",
              "    }\n",
              "  </style>\n",
              "\n",
              "    <script>\n",
              "      const buttonEl =\n",
              "        document.querySelector('#df-712cfa5c-5825-441a-a227-881efa090843 button.colab-df-convert');\n",
              "      buttonEl.style.display =\n",
              "        google.colab.kernel.accessAllowed ? 'block' : 'none';\n",
              "\n",
              "      async function convertToInteractive(key) {\n",
              "        const element = document.querySelector('#df-712cfa5c-5825-441a-a227-881efa090843');\n",
              "        const dataTable =\n",
              "          await google.colab.kernel.invokeFunction('convertToInteractive',\n",
              "                                                    [key], {});\n",
              "        if (!dataTable) return;\n",
              "\n",
              "        const docLinkHtml = 'Like what you see? Visit the ' +\n",
              "          '<a target=\"_blank\" href=https://colab.research.google.com/notebooks/data_table.ipynb>data table notebook</a>'\n",
              "          + ' to learn more about interactive tables.';\n",
              "        element.innerHTML = '';\n",
              "        dataTable['output_type'] = 'display_data';\n",
              "        await google.colab.output.renderOutput(dataTable, element);\n",
              "        const docLink = document.createElement('div');\n",
              "        docLink.innerHTML = docLinkHtml;\n",
              "        element.appendChild(docLink);\n",
              "      }\n",
              "    </script>\n",
              "  </div>\n",
              "\n",
              "\n",
              "<div id=\"df-60fb1fb4-d554-4ed0-a466-ea719ca85b7c\">\n",
              "  <button class=\"colab-df-quickchart\" onclick=\"quickchart('df-60fb1fb4-d554-4ed0-a466-ea719ca85b7c')\"\n",
              "            title=\"Suggest charts.\"\n",
              "            style=\"display:none;\">\n",
              "\n",
              "<svg xmlns=\"http://www.w3.org/2000/svg\" height=\"24px\"viewBox=\"0 0 24 24\"\n",
              "     width=\"24px\">\n",
              "    <g>\n",
              "        <path d=\"M19 3H5c-1.1 0-2 .9-2 2v14c0 1.1.9 2 2 2h14c1.1 0 2-.9 2-2V5c0-1.1-.9-2-2-2zM9 17H7v-7h2v7zm4 0h-2V7h2v10zm4 0h-2v-4h2v4z\"/>\n",
              "    </g>\n",
              "</svg>\n",
              "  </button>\n",
              "\n",
              "<style>\n",
              "  .colab-df-quickchart {\n",
              "      --bg-color: #E8F0FE;\n",
              "      --fill-color: #1967D2;\n",
              "      --hover-bg-color: #E2EBFA;\n",
              "      --hover-fill-color: #174EA6;\n",
              "      --disabled-fill-color: #AAA;\n",
              "      --disabled-bg-color: #DDD;\n",
              "  }\n",
              "\n",
              "  [theme=dark] .colab-df-quickchart {\n",
              "      --bg-color: #3B4455;\n",
              "      --fill-color: #D2E3FC;\n",
              "      --hover-bg-color: #434B5C;\n",
              "      --hover-fill-color: #FFFFFF;\n",
              "      --disabled-bg-color: #3B4455;\n",
              "      --disabled-fill-color: #666;\n",
              "  }\n",
              "\n",
              "  .colab-df-quickchart {\n",
              "    background-color: var(--bg-color);\n",
              "    border: none;\n",
              "    border-radius: 50%;\n",
              "    cursor: pointer;\n",
              "    display: none;\n",
              "    fill: var(--fill-color);\n",
              "    height: 32px;\n",
              "    padding: 0;\n",
              "    width: 32px;\n",
              "  }\n",
              "\n",
              "  .colab-df-quickchart:hover {\n",
              "    background-color: var(--hover-bg-color);\n",
              "    box-shadow: 0 1px 2px rgba(60, 64, 67, 0.3), 0 1px 3px 1px rgba(60, 64, 67, 0.15);\n",
              "    fill: var(--button-hover-fill-color);\n",
              "  }\n",
              "\n",
              "  .colab-df-quickchart-complete:disabled,\n",
              "  .colab-df-quickchart-complete:disabled:hover {\n",
              "    background-color: var(--disabled-bg-color);\n",
              "    fill: var(--disabled-fill-color);\n",
              "    box-shadow: none;\n",
              "  }\n",
              "\n",
              "  .colab-df-spinner {\n",
              "    border: 2px solid var(--fill-color);\n",
              "    border-color: transparent;\n",
              "    border-bottom-color: var(--fill-color);\n",
              "    animation:\n",
              "      spin 1s steps(1) infinite;\n",
              "  }\n",
              "\n",
              "  @keyframes spin {\n",
              "    0% {\n",
              "      border-color: transparent;\n",
              "      border-bottom-color: var(--fill-color);\n",
              "      border-left-color: var(--fill-color);\n",
              "    }\n",
              "    20% {\n",
              "      border-color: transparent;\n",
              "      border-left-color: var(--fill-color);\n",
              "      border-top-color: var(--fill-color);\n",
              "    }\n",
              "    30% {\n",
              "      border-color: transparent;\n",
              "      border-left-color: var(--fill-color);\n",
              "      border-top-color: var(--fill-color);\n",
              "      border-right-color: var(--fill-color);\n",
              "    }\n",
              "    40% {\n",
              "      border-color: transparent;\n",
              "      border-right-color: var(--fill-color);\n",
              "      border-top-color: var(--fill-color);\n",
              "    }\n",
              "    60% {\n",
              "      border-color: transparent;\n",
              "      border-right-color: var(--fill-color);\n",
              "    }\n",
              "    80% {\n",
              "      border-color: transparent;\n",
              "      border-right-color: var(--fill-color);\n",
              "      border-bottom-color: var(--fill-color);\n",
              "    }\n",
              "    90% {\n",
              "      border-color: transparent;\n",
              "      border-bottom-color: var(--fill-color);\n",
              "    }\n",
              "  }\n",
              "</style>\n",
              "\n",
              "  <script>\n",
              "    async function quickchart(key) {\n",
              "      const quickchartButtonEl =\n",
              "        document.querySelector('#' + key + ' button');\n",
              "      quickchartButtonEl.disabled = true;  // To prevent multiple clicks.\n",
              "      quickchartButtonEl.classList.add('colab-df-spinner');\n",
              "      try {\n",
              "        const charts = await google.colab.kernel.invokeFunction(\n",
              "            'suggestCharts', [key], {});\n",
              "      } catch (error) {\n",
              "        console.error('Error during call to suggestCharts:', error);\n",
              "      }\n",
              "      quickchartButtonEl.classList.remove('colab-df-spinner');\n",
              "      quickchartButtonEl.classList.add('colab-df-quickchart-complete');\n",
              "    }\n",
              "    (() => {\n",
              "      let quickchartButtonEl =\n",
              "        document.querySelector('#df-60fb1fb4-d554-4ed0-a466-ea719ca85b7c button');\n",
              "      quickchartButtonEl.style.display =\n",
              "        google.colab.kernel.accessAllowed ? 'block' : 'none';\n",
              "    })();\n",
              "  </script>\n",
              "</div>\n",
              "    </div>\n",
              "  </div>\n"
            ]
          },
          "metadata": {},
          "execution_count": 3
        }
      ]
    },
    {
      "cell_type": "code",
      "source": [
        "valid_df.head()"
      ],
      "metadata": {
        "colab": {
          "base_uri": "https://localhost:8080/",
          "height": 256
        },
        "id": "15ah581Ulu38",
        "outputId": "23ba4abe-d3c0-4a7b-9216-a98a3551c6f7"
      },
      "execution_count": null,
      "outputs": [
        {
          "output_type": "execute_result",
          "data": {
            "text/plain": [
              "   feature_1  feature_2  feature_3  feature_4  feature_5  feature_6  \\\n",
              "0  -1.153148  -1.038098   1.419872   2.734152   1.154604  -1.086937   \n",
              "1  -1.377524  -1.018393   1.102352   2.849025   0.440302  -1.149039   \n",
              "2   0.889574  -2.743300  -0.320194   3.047766  -0.923335   1.741686   \n",
              "3  -1.527213  -1.133121   0.385927   3.129767   0.229020   1.373105   \n",
              "4   0.948176  -0.750248   0.008329   1.675338   1.941155  -0.783623   \n",
              "\n",
              "   feature_7  feature_8  feature_9  feature_10  ...  feature_251  feature_252  \\\n",
              "0  -0.516225  -1.370325   2.865359   -1.879877  ...    -0.719046    -1.248530   \n",
              "1  -0.789796  -2.258196   1.264268   -2.123730  ...    -1.383339    -0.787736   \n",
              "2  -0.615148   0.756482   2.074775   -1.433126  ...     1.178322     0.035333   \n",
              "3   0.919284  -0.755558   1.086973   -2.440614  ...    -0.664176     0.805059   \n",
              "4  -0.485584  -0.261882   2.875204   -1.473030  ...    -0.665200    -0.428060   \n",
              "\n",
              "   feature_253  feature_254  feature_255  feature_256  label_1  label_2  \\\n",
              "0     0.144460    -3.240056     0.052614     0.083108       45      NaN   \n",
              "1     1.044895    -2.289637     0.199752    -0.712154       45      NaN   \n",
              "2     0.857712    -1.928684     0.639870    -0.268576       45      NaN   \n",
              "3     0.975368    -2.700269     1.523236    -1.259052       45      NaN   \n",
              "4    -0.393100    -1.854657     2.207063    -0.342725       45      NaN   \n",
              "\n",
              "   label_3  label_4  \n",
              "0        1        6  \n",
              "1        1        6  \n",
              "2        1        6  \n",
              "3        1        6  \n",
              "4        1        6  \n",
              "\n",
              "[5 rows x 260 columns]"
            ],
            "text/html": [
              "\n",
              "  <div id=\"df-d97fdb1a-da7c-47b5-9667-b5a42c4f68bc\" class=\"colab-df-container\">\n",
              "    <div>\n",
              "<style scoped>\n",
              "    .dataframe tbody tr th:only-of-type {\n",
              "        vertical-align: middle;\n",
              "    }\n",
              "\n",
              "    .dataframe tbody tr th {\n",
              "        vertical-align: top;\n",
              "    }\n",
              "\n",
              "    .dataframe thead th {\n",
              "        text-align: right;\n",
              "    }\n",
              "</style>\n",
              "<table border=\"1\" class=\"dataframe\">\n",
              "  <thead>\n",
              "    <tr style=\"text-align: right;\">\n",
              "      <th></th>\n",
              "      <th>feature_1</th>\n",
              "      <th>feature_2</th>\n",
              "      <th>feature_3</th>\n",
              "      <th>feature_4</th>\n",
              "      <th>feature_5</th>\n",
              "      <th>feature_6</th>\n",
              "      <th>feature_7</th>\n",
              "      <th>feature_8</th>\n",
              "      <th>feature_9</th>\n",
              "      <th>feature_10</th>\n",
              "      <th>...</th>\n",
              "      <th>feature_251</th>\n",
              "      <th>feature_252</th>\n",
              "      <th>feature_253</th>\n",
              "      <th>feature_254</th>\n",
              "      <th>feature_255</th>\n",
              "      <th>feature_256</th>\n",
              "      <th>label_1</th>\n",
              "      <th>label_2</th>\n",
              "      <th>label_3</th>\n",
              "      <th>label_4</th>\n",
              "    </tr>\n",
              "  </thead>\n",
              "  <tbody>\n",
              "    <tr>\n",
              "      <th>0</th>\n",
              "      <td>-1.153148</td>\n",
              "      <td>-1.038098</td>\n",
              "      <td>1.419872</td>\n",
              "      <td>2.734152</td>\n",
              "      <td>1.154604</td>\n",
              "      <td>-1.086937</td>\n",
              "      <td>-0.516225</td>\n",
              "      <td>-1.370325</td>\n",
              "      <td>2.865359</td>\n",
              "      <td>-1.879877</td>\n",
              "      <td>...</td>\n",
              "      <td>-0.719046</td>\n",
              "      <td>-1.248530</td>\n",
              "      <td>0.144460</td>\n",
              "      <td>-3.240056</td>\n",
              "      <td>0.052614</td>\n",
              "      <td>0.083108</td>\n",
              "      <td>45</td>\n",
              "      <td>NaN</td>\n",
              "      <td>1</td>\n",
              "      <td>6</td>\n",
              "    </tr>\n",
              "    <tr>\n",
              "      <th>1</th>\n",
              "      <td>-1.377524</td>\n",
              "      <td>-1.018393</td>\n",
              "      <td>1.102352</td>\n",
              "      <td>2.849025</td>\n",
              "      <td>0.440302</td>\n",
              "      <td>-1.149039</td>\n",
              "      <td>-0.789796</td>\n",
              "      <td>-2.258196</td>\n",
              "      <td>1.264268</td>\n",
              "      <td>-2.123730</td>\n",
              "      <td>...</td>\n",
              "      <td>-1.383339</td>\n",
              "      <td>-0.787736</td>\n",
              "      <td>1.044895</td>\n",
              "      <td>-2.289637</td>\n",
              "      <td>0.199752</td>\n",
              "      <td>-0.712154</td>\n",
              "      <td>45</td>\n",
              "      <td>NaN</td>\n",
              "      <td>1</td>\n",
              "      <td>6</td>\n",
              "    </tr>\n",
              "    <tr>\n",
              "      <th>2</th>\n",
              "      <td>0.889574</td>\n",
              "      <td>-2.743300</td>\n",
              "      <td>-0.320194</td>\n",
              "      <td>3.047766</td>\n",
              "      <td>-0.923335</td>\n",
              "      <td>1.741686</td>\n",
              "      <td>-0.615148</td>\n",
              "      <td>0.756482</td>\n",
              "      <td>2.074775</td>\n",
              "      <td>-1.433126</td>\n",
              "      <td>...</td>\n",
              "      <td>1.178322</td>\n",
              "      <td>0.035333</td>\n",
              "      <td>0.857712</td>\n",
              "      <td>-1.928684</td>\n",
              "      <td>0.639870</td>\n",
              "      <td>-0.268576</td>\n",
              "      <td>45</td>\n",
              "      <td>NaN</td>\n",
              "      <td>1</td>\n",
              "      <td>6</td>\n",
              "    </tr>\n",
              "    <tr>\n",
              "      <th>3</th>\n",
              "      <td>-1.527213</td>\n",
              "      <td>-1.133121</td>\n",
              "      <td>0.385927</td>\n",
              "      <td>3.129767</td>\n",
              "      <td>0.229020</td>\n",
              "      <td>1.373105</td>\n",
              "      <td>0.919284</td>\n",
              "      <td>-0.755558</td>\n",
              "      <td>1.086973</td>\n",
              "      <td>-2.440614</td>\n",
              "      <td>...</td>\n",
              "      <td>-0.664176</td>\n",
              "      <td>0.805059</td>\n",
              "      <td>0.975368</td>\n",
              "      <td>-2.700269</td>\n",
              "      <td>1.523236</td>\n",
              "      <td>-1.259052</td>\n",
              "      <td>45</td>\n",
              "      <td>NaN</td>\n",
              "      <td>1</td>\n",
              "      <td>6</td>\n",
              "    </tr>\n",
              "    <tr>\n",
              "      <th>4</th>\n",
              "      <td>0.948176</td>\n",
              "      <td>-0.750248</td>\n",
              "      <td>0.008329</td>\n",
              "      <td>1.675338</td>\n",
              "      <td>1.941155</td>\n",
              "      <td>-0.783623</td>\n",
              "      <td>-0.485584</td>\n",
              "      <td>-0.261882</td>\n",
              "      <td>2.875204</td>\n",
              "      <td>-1.473030</td>\n",
              "      <td>...</td>\n",
              "      <td>-0.665200</td>\n",
              "      <td>-0.428060</td>\n",
              "      <td>-0.393100</td>\n",
              "      <td>-1.854657</td>\n",
              "      <td>2.207063</td>\n",
              "      <td>-0.342725</td>\n",
              "      <td>45</td>\n",
              "      <td>NaN</td>\n",
              "      <td>1</td>\n",
              "      <td>6</td>\n",
              "    </tr>\n",
              "  </tbody>\n",
              "</table>\n",
              "<p>5 rows × 260 columns</p>\n",
              "</div>\n",
              "    <div class=\"colab-df-buttons\">\n",
              "\n",
              "  <div class=\"colab-df-container\">\n",
              "    <button class=\"colab-df-convert\" onclick=\"convertToInteractive('df-d97fdb1a-da7c-47b5-9667-b5a42c4f68bc')\"\n",
              "            title=\"Convert this dataframe to an interactive table.\"\n",
              "            style=\"display:none;\">\n",
              "\n",
              "  <svg xmlns=\"http://www.w3.org/2000/svg\" height=\"24px\" viewBox=\"0 -960 960 960\">\n",
              "    <path d=\"M120-120v-720h720v720H120Zm60-500h600v-160H180v160Zm220 220h160v-160H400v160Zm0 220h160v-160H400v160ZM180-400h160v-160H180v160Zm440 0h160v-160H620v160ZM180-180h160v-160H180v160Zm440 0h160v-160H620v160Z\"/>\n",
              "  </svg>\n",
              "    </button>\n",
              "\n",
              "  <style>\n",
              "    .colab-df-container {\n",
              "      display:flex;\n",
              "      gap: 12px;\n",
              "    }\n",
              "\n",
              "    .colab-df-convert {\n",
              "      background-color: #E8F0FE;\n",
              "      border: none;\n",
              "      border-radius: 50%;\n",
              "      cursor: pointer;\n",
              "      display: none;\n",
              "      fill: #1967D2;\n",
              "      height: 32px;\n",
              "      padding: 0 0 0 0;\n",
              "      width: 32px;\n",
              "    }\n",
              "\n",
              "    .colab-df-convert:hover {\n",
              "      background-color: #E2EBFA;\n",
              "      box-shadow: 0px 1px 2px rgba(60, 64, 67, 0.3), 0px 1px 3px 1px rgba(60, 64, 67, 0.15);\n",
              "      fill: #174EA6;\n",
              "    }\n",
              "\n",
              "    .colab-df-buttons div {\n",
              "      margin-bottom: 4px;\n",
              "    }\n",
              "\n",
              "    [theme=dark] .colab-df-convert {\n",
              "      background-color: #3B4455;\n",
              "      fill: #D2E3FC;\n",
              "    }\n",
              "\n",
              "    [theme=dark] .colab-df-convert:hover {\n",
              "      background-color: #434B5C;\n",
              "      box-shadow: 0px 1px 3px 1px rgba(0, 0, 0, 0.15);\n",
              "      filter: drop-shadow(0px 1px 2px rgba(0, 0, 0, 0.3));\n",
              "      fill: #FFFFFF;\n",
              "    }\n",
              "  </style>\n",
              "\n",
              "    <script>\n",
              "      const buttonEl =\n",
              "        document.querySelector('#df-d97fdb1a-da7c-47b5-9667-b5a42c4f68bc button.colab-df-convert');\n",
              "      buttonEl.style.display =\n",
              "        google.colab.kernel.accessAllowed ? 'block' : 'none';\n",
              "\n",
              "      async function convertToInteractive(key) {\n",
              "        const element = document.querySelector('#df-d97fdb1a-da7c-47b5-9667-b5a42c4f68bc');\n",
              "        const dataTable =\n",
              "          await google.colab.kernel.invokeFunction('convertToInteractive',\n",
              "                                                    [key], {});\n",
              "        if (!dataTable) return;\n",
              "\n",
              "        const docLinkHtml = 'Like what you see? Visit the ' +\n",
              "          '<a target=\"_blank\" href=https://colab.research.google.com/notebooks/data_table.ipynb>data table notebook</a>'\n",
              "          + ' to learn more about interactive tables.';\n",
              "        element.innerHTML = '';\n",
              "        dataTable['output_type'] = 'display_data';\n",
              "        await google.colab.output.renderOutput(dataTable, element);\n",
              "        const docLink = document.createElement('div');\n",
              "        docLink.innerHTML = docLinkHtml;\n",
              "        element.appendChild(docLink);\n",
              "      }\n",
              "    </script>\n",
              "  </div>\n",
              "\n",
              "\n",
              "<div id=\"df-1e498ae6-49fd-4faa-83bd-4e6e5bb1791e\">\n",
              "  <button class=\"colab-df-quickchart\" onclick=\"quickchart('df-1e498ae6-49fd-4faa-83bd-4e6e5bb1791e')\"\n",
              "            title=\"Suggest charts.\"\n",
              "            style=\"display:none;\">\n",
              "\n",
              "<svg xmlns=\"http://www.w3.org/2000/svg\" height=\"24px\"viewBox=\"0 0 24 24\"\n",
              "     width=\"24px\">\n",
              "    <g>\n",
              "        <path d=\"M19 3H5c-1.1 0-2 .9-2 2v14c0 1.1.9 2 2 2h14c1.1 0 2-.9 2-2V5c0-1.1-.9-2-2-2zM9 17H7v-7h2v7zm4 0h-2V7h2v10zm4 0h-2v-4h2v4z\"/>\n",
              "    </g>\n",
              "</svg>\n",
              "  </button>\n",
              "\n",
              "<style>\n",
              "  .colab-df-quickchart {\n",
              "      --bg-color: #E8F0FE;\n",
              "      --fill-color: #1967D2;\n",
              "      --hover-bg-color: #E2EBFA;\n",
              "      --hover-fill-color: #174EA6;\n",
              "      --disabled-fill-color: #AAA;\n",
              "      --disabled-bg-color: #DDD;\n",
              "  }\n",
              "\n",
              "  [theme=dark] .colab-df-quickchart {\n",
              "      --bg-color: #3B4455;\n",
              "      --fill-color: #D2E3FC;\n",
              "      --hover-bg-color: #434B5C;\n",
              "      --hover-fill-color: #FFFFFF;\n",
              "      --disabled-bg-color: #3B4455;\n",
              "      --disabled-fill-color: #666;\n",
              "  }\n",
              "\n",
              "  .colab-df-quickchart {\n",
              "    background-color: var(--bg-color);\n",
              "    border: none;\n",
              "    border-radius: 50%;\n",
              "    cursor: pointer;\n",
              "    display: none;\n",
              "    fill: var(--fill-color);\n",
              "    height: 32px;\n",
              "    padding: 0;\n",
              "    width: 32px;\n",
              "  }\n",
              "\n",
              "  .colab-df-quickchart:hover {\n",
              "    background-color: var(--hover-bg-color);\n",
              "    box-shadow: 0 1px 2px rgba(60, 64, 67, 0.3), 0 1px 3px 1px rgba(60, 64, 67, 0.15);\n",
              "    fill: var(--button-hover-fill-color);\n",
              "  }\n",
              "\n",
              "  .colab-df-quickchart-complete:disabled,\n",
              "  .colab-df-quickchart-complete:disabled:hover {\n",
              "    background-color: var(--disabled-bg-color);\n",
              "    fill: var(--disabled-fill-color);\n",
              "    box-shadow: none;\n",
              "  }\n",
              "\n",
              "  .colab-df-spinner {\n",
              "    border: 2px solid var(--fill-color);\n",
              "    border-color: transparent;\n",
              "    border-bottom-color: var(--fill-color);\n",
              "    animation:\n",
              "      spin 1s steps(1) infinite;\n",
              "  }\n",
              "\n",
              "  @keyframes spin {\n",
              "    0% {\n",
              "      border-color: transparent;\n",
              "      border-bottom-color: var(--fill-color);\n",
              "      border-left-color: var(--fill-color);\n",
              "    }\n",
              "    20% {\n",
              "      border-color: transparent;\n",
              "      border-left-color: var(--fill-color);\n",
              "      border-top-color: var(--fill-color);\n",
              "    }\n",
              "    30% {\n",
              "      border-color: transparent;\n",
              "      border-left-color: var(--fill-color);\n",
              "      border-top-color: var(--fill-color);\n",
              "      border-right-color: var(--fill-color);\n",
              "    }\n",
              "    40% {\n",
              "      border-color: transparent;\n",
              "      border-right-color: var(--fill-color);\n",
              "      border-top-color: var(--fill-color);\n",
              "    }\n",
              "    60% {\n",
              "      border-color: transparent;\n",
              "      border-right-color: var(--fill-color);\n",
              "    }\n",
              "    80% {\n",
              "      border-color: transparent;\n",
              "      border-right-color: var(--fill-color);\n",
              "      border-bottom-color: var(--fill-color);\n",
              "    }\n",
              "    90% {\n",
              "      border-color: transparent;\n",
              "      border-bottom-color: var(--fill-color);\n",
              "    }\n",
              "  }\n",
              "</style>\n",
              "\n",
              "  <script>\n",
              "    async function quickchart(key) {\n",
              "      const quickchartButtonEl =\n",
              "        document.querySelector('#' + key + ' button');\n",
              "      quickchartButtonEl.disabled = true;  // To prevent multiple clicks.\n",
              "      quickchartButtonEl.classList.add('colab-df-spinner');\n",
              "      try {\n",
              "        const charts = await google.colab.kernel.invokeFunction(\n",
              "            'suggestCharts', [key], {});\n",
              "      } catch (error) {\n",
              "        console.error('Error during call to suggestCharts:', error);\n",
              "      }\n",
              "      quickchartButtonEl.classList.remove('colab-df-spinner');\n",
              "      quickchartButtonEl.classList.add('colab-df-quickchart-complete');\n",
              "    }\n",
              "    (() => {\n",
              "      let quickchartButtonEl =\n",
              "        document.querySelector('#df-1e498ae6-49fd-4faa-83bd-4e6e5bb1791e button');\n",
              "      quickchartButtonEl.style.display =\n",
              "        google.colab.kernel.accessAllowed ? 'block' : 'none';\n",
              "    })();\n",
              "  </script>\n",
              "</div>\n",
              "    </div>\n",
              "  </div>\n"
            ]
          },
          "metadata": {},
          "execution_count": 4
        }
      ]
    },
    {
      "cell_type": "code",
      "source": [
        "print(\"train_df row count: \", train_df.shape[0])\n",
        "print(\"valid_df row count: \", valid_df.shape[0])"
      ],
      "metadata": {
        "colab": {
          "base_uri": "https://localhost:8080/"
        },
        "id": "uT_RxcWTnhVQ",
        "outputId": "505bd8f4-9568-4125-c954-d9f0481fdf45"
      },
      "execution_count": null,
      "outputs": [
        {
          "output_type": "stream",
          "name": "stdout",
          "text": [
            "train_df row count:  28520\n",
            "valid_df row count:  750\n"
          ]
        }
      ]
    },
    {
      "cell_type": "markdown",
      "source": [
        "How many null values are there in label_2?"
      ],
      "metadata": {
        "id": "7WiKkR22m3G8"
      }
    },
    {
      "cell_type": "code",
      "source": [
        "# train dataset\n",
        "count = train_df['label_2'].isna().sum()\n",
        "print(\"count:\", count)\n",
        "print(\"percentage:\", count / train_df.shape[0] * 100)"
      ],
      "metadata": {
        "id": "Hr4uJQJ4nByr",
        "colab": {
          "base_uri": "https://localhost:8080/"
        },
        "outputId": "b646e3f1-88fc-4b51-f9f6-bd1912fccfc9"
      },
      "execution_count": null,
      "outputs": [
        {
          "output_type": "stream",
          "name": "stdout",
          "text": [
            "count: 480\n",
            "percentage: 1.6830294530154277\n"
          ]
        }
      ]
    },
    {
      "cell_type": "code",
      "source": [
        "# valid dataset\n",
        "count = valid_df['label_2'].isna().sum()\n",
        "print(\"count:\", count)\n",
        "print(\"percentage:\", count / valid_df.shape[0] * 100)"
      ],
      "metadata": {
        "colab": {
          "base_uri": "https://localhost:8080/"
        },
        "id": "_nhFENutgyqb",
        "outputId": "14cbbe7d-2368-4744-afb5-e2776de0323b"
      },
      "execution_count": null,
      "outputs": [
        {
          "output_type": "stream",
          "name": "stdout",
          "text": [
            "count: 14\n",
            "percentage: 1.866666666666667\n"
          ]
        }
      ]
    },
    {
      "cell_type": "markdown",
      "source": [
        "Are there any null values in any other column?"
      ],
      "metadata": {
        "id": "_Vz_yurfNJ-p"
      }
    },
    {
      "cell_type": "code",
      "source": [
        "# pd.set_option(\"display.max_columns\", None)\n",
        "null_values_present = train_df.loc[:, ~train_df.columns.isin(['label_2'])].isna().any().any()\n",
        "print(null_values_present)"
      ],
      "metadata": {
        "colab": {
          "base_uri": "https://localhost:8080/"
        },
        "id": "2Bl21XVMNsZa",
        "outputId": "c0483da5-c6b5-473e-8705-5c1fcf4d14c0"
      },
      "execution_count": null,
      "outputs": [
        {
          "output_type": "stream",
          "name": "stdout",
          "text": [
            "False\n"
          ]
        }
      ]
    },
    {
      "cell_type": "code",
      "source": [
        "train_df.info()"
      ],
      "metadata": {
        "colab": {
          "base_uri": "https://localhost:8080/"
        },
        "id": "puXsyEjIIiVx",
        "outputId": "41a7210b-b4b0-44c3-b9d9-aa959c0c11cc"
      },
      "execution_count": null,
      "outputs": [
        {
          "output_type": "stream",
          "name": "stdout",
          "text": [
            "<class 'pandas.core.frame.DataFrame'>\n",
            "RangeIndex: 28520 entries, 0 to 28519\n",
            "Columns: 260 entries, feature_1 to label_4\n",
            "dtypes: float64(257), int64(3)\n",
            "memory usage: 56.6 MB\n"
          ]
        }
      ]
    },
    {
      "cell_type": "code",
      "source": [
        "train_df.describe()"
      ],
      "metadata": {
        "colab": {
          "base_uri": "https://localhost:8080/",
          "height": 350
        },
        "id": "ZELMDo7mRrbG",
        "outputId": "6a6231f7-62fc-490d-9dfc-87354933ec40"
      },
      "execution_count": null,
      "outputs": [
        {
          "output_type": "execute_result",
          "data": {
            "text/plain": [
              "          feature_1     feature_2     feature_3     feature_4     feature_5  \\\n",
              "count  28520.000000  28520.000000  28520.000000  28520.000000  28520.000000   \n",
              "mean      -0.225478     -0.616421     -0.212878      0.336330      0.105467   \n",
              "std        0.990632      1.005573      1.075468      1.248919      0.831132   \n",
              "min       -4.023911     -5.582544     -4.679888     -4.284380     -3.010300   \n",
              "25%       -0.869656     -1.287018     -0.913419     -0.478661     -0.437171   \n",
              "50%       -0.190790     -0.609782     -0.218800      0.295881      0.117310   \n",
              "75%        0.457509      0.063174      0.490262      1.119242      0.657941   \n",
              "max        4.322171      3.876604      4.267163      5.828656      3.884939   \n",
              "\n",
              "          feature_6     feature_7     feature_8     feature_9    feature_10  \\\n",
              "count  28520.000000  28520.000000  28520.000000  28520.000000  28520.000000   \n",
              "mean      -0.339634     -0.201756      0.742262      0.942325     -1.957584   \n",
              "std        1.073267      0.943505      1.055721      0.940459      0.876939   \n",
              "min       -5.034355     -4.355222     -3.806574     -2.922614     -5.203347   \n",
              "25%       -1.075753     -0.823699      0.064072      0.298269     -2.556436   \n",
              "50%       -0.329571     -0.193263      0.755193      0.940786     -1.949847   \n",
              "75%        0.393339      0.417146      1.461846      1.579200     -1.345999   \n",
              "max        3.890622      3.799406      4.817545      4.615069      1.147192   \n",
              "\n",
              "       ...   feature_251   feature_252   feature_253   feature_254  \\\n",
              "count  ...  28520.000000  28520.000000  28520.000000  28520.000000   \n",
              "mean   ...     -0.028098      0.296340      1.724439     -1.476765   \n",
              "std    ...      0.989497      1.173378      0.968611      1.032811   \n",
              "min    ...     -3.679602     -3.905801     -3.301683     -5.490267   \n",
              "25%    ...     -0.692262     -0.550897      1.121631     -2.130906   \n",
              "50%    ...     -0.018218      0.295523      1.783432     -1.449978   \n",
              "75%    ...      0.644112      1.128566      2.383575     -0.799414   \n",
              "max    ...      3.915582      4.458014      5.261775      2.861117   \n",
              "\n",
              "        feature_255   feature_256       label_1       label_2       label_3  \\\n",
              "count  28520.000000  28520.000000  28520.000000  28040.000000  28520.000000   \n",
              "mean       0.687445     -1.563062     30.498843     27.975107      0.799299   \n",
              "std        1.028328      1.243758     17.328389      5.735913      0.400532   \n",
              "min       -3.810144     -6.056032      1.000000     22.000000      0.000000   \n",
              "25%       -0.008394     -2.404028     15.000000     25.000000      1.000000   \n",
              "50%        0.639575     -1.650610     30.000000     27.000000      1.000000   \n",
              "75%        1.347263     -0.805710     46.000000     30.000000      1.000000   \n",
              "max        5.531152      3.338544     60.000000     61.000000      1.000000   \n",
              "\n",
              "            label_4  \n",
              "count  28520.000000  \n",
              "mean       5.997125  \n",
              "std        2.375567  \n",
              "min        0.000000  \n",
              "25%        6.000000  \n",
              "50%        6.000000  \n",
              "75%        6.000000  \n",
              "max       13.000000  \n",
              "\n",
              "[8 rows x 260 columns]"
            ],
            "text/html": [
              "\n",
              "  <div id=\"df-70abe870-0dd8-4b7f-ae92-6dde1592b1e6\" class=\"colab-df-container\">\n",
              "    <div>\n",
              "<style scoped>\n",
              "    .dataframe tbody tr th:only-of-type {\n",
              "        vertical-align: middle;\n",
              "    }\n",
              "\n",
              "    .dataframe tbody tr th {\n",
              "        vertical-align: top;\n",
              "    }\n",
              "\n",
              "    .dataframe thead th {\n",
              "        text-align: right;\n",
              "    }\n",
              "</style>\n",
              "<table border=\"1\" class=\"dataframe\">\n",
              "  <thead>\n",
              "    <tr style=\"text-align: right;\">\n",
              "      <th></th>\n",
              "      <th>feature_1</th>\n",
              "      <th>feature_2</th>\n",
              "      <th>feature_3</th>\n",
              "      <th>feature_4</th>\n",
              "      <th>feature_5</th>\n",
              "      <th>feature_6</th>\n",
              "      <th>feature_7</th>\n",
              "      <th>feature_8</th>\n",
              "      <th>feature_9</th>\n",
              "      <th>feature_10</th>\n",
              "      <th>...</th>\n",
              "      <th>feature_251</th>\n",
              "      <th>feature_252</th>\n",
              "      <th>feature_253</th>\n",
              "      <th>feature_254</th>\n",
              "      <th>feature_255</th>\n",
              "      <th>feature_256</th>\n",
              "      <th>label_1</th>\n",
              "      <th>label_2</th>\n",
              "      <th>label_3</th>\n",
              "      <th>label_4</th>\n",
              "    </tr>\n",
              "  </thead>\n",
              "  <tbody>\n",
              "    <tr>\n",
              "      <th>count</th>\n",
              "      <td>28520.000000</td>\n",
              "      <td>28520.000000</td>\n",
              "      <td>28520.000000</td>\n",
              "      <td>28520.000000</td>\n",
              "      <td>28520.000000</td>\n",
              "      <td>28520.000000</td>\n",
              "      <td>28520.000000</td>\n",
              "      <td>28520.000000</td>\n",
              "      <td>28520.000000</td>\n",
              "      <td>28520.000000</td>\n",
              "      <td>...</td>\n",
              "      <td>28520.000000</td>\n",
              "      <td>28520.000000</td>\n",
              "      <td>28520.000000</td>\n",
              "      <td>28520.000000</td>\n",
              "      <td>28520.000000</td>\n",
              "      <td>28520.000000</td>\n",
              "      <td>28520.000000</td>\n",
              "      <td>28040.000000</td>\n",
              "      <td>28520.000000</td>\n",
              "      <td>28520.000000</td>\n",
              "    </tr>\n",
              "    <tr>\n",
              "      <th>mean</th>\n",
              "      <td>-0.225478</td>\n",
              "      <td>-0.616421</td>\n",
              "      <td>-0.212878</td>\n",
              "      <td>0.336330</td>\n",
              "      <td>0.105467</td>\n",
              "      <td>-0.339634</td>\n",
              "      <td>-0.201756</td>\n",
              "      <td>0.742262</td>\n",
              "      <td>0.942325</td>\n",
              "      <td>-1.957584</td>\n",
              "      <td>...</td>\n",
              "      <td>-0.028098</td>\n",
              "      <td>0.296340</td>\n",
              "      <td>1.724439</td>\n",
              "      <td>-1.476765</td>\n",
              "      <td>0.687445</td>\n",
              "      <td>-1.563062</td>\n",
              "      <td>30.498843</td>\n",
              "      <td>27.975107</td>\n",
              "      <td>0.799299</td>\n",
              "      <td>5.997125</td>\n",
              "    </tr>\n",
              "    <tr>\n",
              "      <th>std</th>\n",
              "      <td>0.990632</td>\n",
              "      <td>1.005573</td>\n",
              "      <td>1.075468</td>\n",
              "      <td>1.248919</td>\n",
              "      <td>0.831132</td>\n",
              "      <td>1.073267</td>\n",
              "      <td>0.943505</td>\n",
              "      <td>1.055721</td>\n",
              "      <td>0.940459</td>\n",
              "      <td>0.876939</td>\n",
              "      <td>...</td>\n",
              "      <td>0.989497</td>\n",
              "      <td>1.173378</td>\n",
              "      <td>0.968611</td>\n",
              "      <td>1.032811</td>\n",
              "      <td>1.028328</td>\n",
              "      <td>1.243758</td>\n",
              "      <td>17.328389</td>\n",
              "      <td>5.735913</td>\n",
              "      <td>0.400532</td>\n",
              "      <td>2.375567</td>\n",
              "    </tr>\n",
              "    <tr>\n",
              "      <th>min</th>\n",
              "      <td>-4.023911</td>\n",
              "      <td>-5.582544</td>\n",
              "      <td>-4.679888</td>\n",
              "      <td>-4.284380</td>\n",
              "      <td>-3.010300</td>\n",
              "      <td>-5.034355</td>\n",
              "      <td>-4.355222</td>\n",
              "      <td>-3.806574</td>\n",
              "      <td>-2.922614</td>\n",
              "      <td>-5.203347</td>\n",
              "      <td>...</td>\n",
              "      <td>-3.679602</td>\n",
              "      <td>-3.905801</td>\n",
              "      <td>-3.301683</td>\n",
              "      <td>-5.490267</td>\n",
              "      <td>-3.810144</td>\n",
              "      <td>-6.056032</td>\n",
              "      <td>1.000000</td>\n",
              "      <td>22.000000</td>\n",
              "      <td>0.000000</td>\n",
              "      <td>0.000000</td>\n",
              "    </tr>\n",
              "    <tr>\n",
              "      <th>25%</th>\n",
              "      <td>-0.869656</td>\n",
              "      <td>-1.287018</td>\n",
              "      <td>-0.913419</td>\n",
              "      <td>-0.478661</td>\n",
              "      <td>-0.437171</td>\n",
              "      <td>-1.075753</td>\n",
              "      <td>-0.823699</td>\n",
              "      <td>0.064072</td>\n",
              "      <td>0.298269</td>\n",
              "      <td>-2.556436</td>\n",
              "      <td>...</td>\n",
              "      <td>-0.692262</td>\n",
              "      <td>-0.550897</td>\n",
              "      <td>1.121631</td>\n",
              "      <td>-2.130906</td>\n",
              "      <td>-0.008394</td>\n",
              "      <td>-2.404028</td>\n",
              "      <td>15.000000</td>\n",
              "      <td>25.000000</td>\n",
              "      <td>1.000000</td>\n",
              "      <td>6.000000</td>\n",
              "    </tr>\n",
              "    <tr>\n",
              "      <th>50%</th>\n",
              "      <td>-0.190790</td>\n",
              "      <td>-0.609782</td>\n",
              "      <td>-0.218800</td>\n",
              "      <td>0.295881</td>\n",
              "      <td>0.117310</td>\n",
              "      <td>-0.329571</td>\n",
              "      <td>-0.193263</td>\n",
              "      <td>0.755193</td>\n",
              "      <td>0.940786</td>\n",
              "      <td>-1.949847</td>\n",
              "      <td>...</td>\n",
              "      <td>-0.018218</td>\n",
              "      <td>0.295523</td>\n",
              "      <td>1.783432</td>\n",
              "      <td>-1.449978</td>\n",
              "      <td>0.639575</td>\n",
              "      <td>-1.650610</td>\n",
              "      <td>30.000000</td>\n",
              "      <td>27.000000</td>\n",
              "      <td>1.000000</td>\n",
              "      <td>6.000000</td>\n",
              "    </tr>\n",
              "    <tr>\n",
              "      <th>75%</th>\n",
              "      <td>0.457509</td>\n",
              "      <td>0.063174</td>\n",
              "      <td>0.490262</td>\n",
              "      <td>1.119242</td>\n",
              "      <td>0.657941</td>\n",
              "      <td>0.393339</td>\n",
              "      <td>0.417146</td>\n",
              "      <td>1.461846</td>\n",
              "      <td>1.579200</td>\n",
              "      <td>-1.345999</td>\n",
              "      <td>...</td>\n",
              "      <td>0.644112</td>\n",
              "      <td>1.128566</td>\n",
              "      <td>2.383575</td>\n",
              "      <td>-0.799414</td>\n",
              "      <td>1.347263</td>\n",
              "      <td>-0.805710</td>\n",
              "      <td>46.000000</td>\n",
              "      <td>30.000000</td>\n",
              "      <td>1.000000</td>\n",
              "      <td>6.000000</td>\n",
              "    </tr>\n",
              "    <tr>\n",
              "      <th>max</th>\n",
              "      <td>4.322171</td>\n",
              "      <td>3.876604</td>\n",
              "      <td>4.267163</td>\n",
              "      <td>5.828656</td>\n",
              "      <td>3.884939</td>\n",
              "      <td>3.890622</td>\n",
              "      <td>3.799406</td>\n",
              "      <td>4.817545</td>\n",
              "      <td>4.615069</td>\n",
              "      <td>1.147192</td>\n",
              "      <td>...</td>\n",
              "      <td>3.915582</td>\n",
              "      <td>4.458014</td>\n",
              "      <td>5.261775</td>\n",
              "      <td>2.861117</td>\n",
              "      <td>5.531152</td>\n",
              "      <td>3.338544</td>\n",
              "      <td>60.000000</td>\n",
              "      <td>61.000000</td>\n",
              "      <td>1.000000</td>\n",
              "      <td>13.000000</td>\n",
              "    </tr>\n",
              "  </tbody>\n",
              "</table>\n",
              "<p>8 rows × 260 columns</p>\n",
              "</div>\n",
              "    <div class=\"colab-df-buttons\">\n",
              "\n",
              "  <div class=\"colab-df-container\">\n",
              "    <button class=\"colab-df-convert\" onclick=\"convertToInteractive('df-70abe870-0dd8-4b7f-ae92-6dde1592b1e6')\"\n",
              "            title=\"Convert this dataframe to an interactive table.\"\n",
              "            style=\"display:none;\">\n",
              "\n",
              "  <svg xmlns=\"http://www.w3.org/2000/svg\" height=\"24px\" viewBox=\"0 -960 960 960\">\n",
              "    <path d=\"M120-120v-720h720v720H120Zm60-500h600v-160H180v160Zm220 220h160v-160H400v160Zm0 220h160v-160H400v160ZM180-400h160v-160H180v160Zm440 0h160v-160H620v160ZM180-180h160v-160H180v160Zm440 0h160v-160H620v160Z\"/>\n",
              "  </svg>\n",
              "    </button>\n",
              "\n",
              "  <style>\n",
              "    .colab-df-container {\n",
              "      display:flex;\n",
              "      gap: 12px;\n",
              "    }\n",
              "\n",
              "    .colab-df-convert {\n",
              "      background-color: #E8F0FE;\n",
              "      border: none;\n",
              "      border-radius: 50%;\n",
              "      cursor: pointer;\n",
              "      display: none;\n",
              "      fill: #1967D2;\n",
              "      height: 32px;\n",
              "      padding: 0 0 0 0;\n",
              "      width: 32px;\n",
              "    }\n",
              "\n",
              "    .colab-df-convert:hover {\n",
              "      background-color: #E2EBFA;\n",
              "      box-shadow: 0px 1px 2px rgba(60, 64, 67, 0.3), 0px 1px 3px 1px rgba(60, 64, 67, 0.15);\n",
              "      fill: #174EA6;\n",
              "    }\n",
              "\n",
              "    .colab-df-buttons div {\n",
              "      margin-bottom: 4px;\n",
              "    }\n",
              "\n",
              "    [theme=dark] .colab-df-convert {\n",
              "      background-color: #3B4455;\n",
              "      fill: #D2E3FC;\n",
              "    }\n",
              "\n",
              "    [theme=dark] .colab-df-convert:hover {\n",
              "      background-color: #434B5C;\n",
              "      box-shadow: 0px 1px 3px 1px rgba(0, 0, 0, 0.15);\n",
              "      filter: drop-shadow(0px 1px 2px rgba(0, 0, 0, 0.3));\n",
              "      fill: #FFFFFF;\n",
              "    }\n",
              "  </style>\n",
              "\n",
              "    <script>\n",
              "      const buttonEl =\n",
              "        document.querySelector('#df-70abe870-0dd8-4b7f-ae92-6dde1592b1e6 button.colab-df-convert');\n",
              "      buttonEl.style.display =\n",
              "        google.colab.kernel.accessAllowed ? 'block' : 'none';\n",
              "\n",
              "      async function convertToInteractive(key) {\n",
              "        const element = document.querySelector('#df-70abe870-0dd8-4b7f-ae92-6dde1592b1e6');\n",
              "        const dataTable =\n",
              "          await google.colab.kernel.invokeFunction('convertToInteractive',\n",
              "                                                    [key], {});\n",
              "        if (!dataTable) return;\n",
              "\n",
              "        const docLinkHtml = 'Like what you see? Visit the ' +\n",
              "          '<a target=\"_blank\" href=https://colab.research.google.com/notebooks/data_table.ipynb>data table notebook</a>'\n",
              "          + ' to learn more about interactive tables.';\n",
              "        element.innerHTML = '';\n",
              "        dataTable['output_type'] = 'display_data';\n",
              "        await google.colab.output.renderOutput(dataTable, element);\n",
              "        const docLink = document.createElement('div');\n",
              "        docLink.innerHTML = docLinkHtml;\n",
              "        element.appendChild(docLink);\n",
              "      }\n",
              "    </script>\n",
              "  </div>\n",
              "\n",
              "\n",
              "<div id=\"df-117dbf55-ae48-47f6-ab14-66481b1f80e8\">\n",
              "  <button class=\"colab-df-quickchart\" onclick=\"quickchart('df-117dbf55-ae48-47f6-ab14-66481b1f80e8')\"\n",
              "            title=\"Suggest charts.\"\n",
              "            style=\"display:none;\">\n",
              "\n",
              "<svg xmlns=\"http://www.w3.org/2000/svg\" height=\"24px\"viewBox=\"0 0 24 24\"\n",
              "     width=\"24px\">\n",
              "    <g>\n",
              "        <path d=\"M19 3H5c-1.1 0-2 .9-2 2v14c0 1.1.9 2 2 2h14c1.1 0 2-.9 2-2V5c0-1.1-.9-2-2-2zM9 17H7v-7h2v7zm4 0h-2V7h2v10zm4 0h-2v-4h2v4z\"/>\n",
              "    </g>\n",
              "</svg>\n",
              "  </button>\n",
              "\n",
              "<style>\n",
              "  .colab-df-quickchart {\n",
              "      --bg-color: #E8F0FE;\n",
              "      --fill-color: #1967D2;\n",
              "      --hover-bg-color: #E2EBFA;\n",
              "      --hover-fill-color: #174EA6;\n",
              "      --disabled-fill-color: #AAA;\n",
              "      --disabled-bg-color: #DDD;\n",
              "  }\n",
              "\n",
              "  [theme=dark] .colab-df-quickchart {\n",
              "      --bg-color: #3B4455;\n",
              "      --fill-color: #D2E3FC;\n",
              "      --hover-bg-color: #434B5C;\n",
              "      --hover-fill-color: #FFFFFF;\n",
              "      --disabled-bg-color: #3B4455;\n",
              "      --disabled-fill-color: #666;\n",
              "  }\n",
              "\n",
              "  .colab-df-quickchart {\n",
              "    background-color: var(--bg-color);\n",
              "    border: none;\n",
              "    border-radius: 50%;\n",
              "    cursor: pointer;\n",
              "    display: none;\n",
              "    fill: var(--fill-color);\n",
              "    height: 32px;\n",
              "    padding: 0;\n",
              "    width: 32px;\n",
              "  }\n",
              "\n",
              "  .colab-df-quickchart:hover {\n",
              "    background-color: var(--hover-bg-color);\n",
              "    box-shadow: 0 1px 2px rgba(60, 64, 67, 0.3), 0 1px 3px 1px rgba(60, 64, 67, 0.15);\n",
              "    fill: var(--button-hover-fill-color);\n",
              "  }\n",
              "\n",
              "  .colab-df-quickchart-complete:disabled,\n",
              "  .colab-df-quickchart-complete:disabled:hover {\n",
              "    background-color: var(--disabled-bg-color);\n",
              "    fill: var(--disabled-fill-color);\n",
              "    box-shadow: none;\n",
              "  }\n",
              "\n",
              "  .colab-df-spinner {\n",
              "    border: 2px solid var(--fill-color);\n",
              "    border-color: transparent;\n",
              "    border-bottom-color: var(--fill-color);\n",
              "    animation:\n",
              "      spin 1s steps(1) infinite;\n",
              "  }\n",
              "\n",
              "  @keyframes spin {\n",
              "    0% {\n",
              "      border-color: transparent;\n",
              "      border-bottom-color: var(--fill-color);\n",
              "      border-left-color: var(--fill-color);\n",
              "    }\n",
              "    20% {\n",
              "      border-color: transparent;\n",
              "      border-left-color: var(--fill-color);\n",
              "      border-top-color: var(--fill-color);\n",
              "    }\n",
              "    30% {\n",
              "      border-color: transparent;\n",
              "      border-left-color: var(--fill-color);\n",
              "      border-top-color: var(--fill-color);\n",
              "      border-right-color: var(--fill-color);\n",
              "    }\n",
              "    40% {\n",
              "      border-color: transparent;\n",
              "      border-right-color: var(--fill-color);\n",
              "      border-top-color: var(--fill-color);\n",
              "    }\n",
              "    60% {\n",
              "      border-color: transparent;\n",
              "      border-right-color: var(--fill-color);\n",
              "    }\n",
              "    80% {\n",
              "      border-color: transparent;\n",
              "      border-right-color: var(--fill-color);\n",
              "      border-bottom-color: var(--fill-color);\n",
              "    }\n",
              "    90% {\n",
              "      border-color: transparent;\n",
              "      border-bottom-color: var(--fill-color);\n",
              "    }\n",
              "  }\n",
              "</style>\n",
              "\n",
              "  <script>\n",
              "    async function quickchart(key) {\n",
              "      const quickchartButtonEl =\n",
              "        document.querySelector('#' + key + ' button');\n",
              "      quickchartButtonEl.disabled = true;  // To prevent multiple clicks.\n",
              "      quickchartButtonEl.classList.add('colab-df-spinner');\n",
              "      try {\n",
              "        const charts = await google.colab.kernel.invokeFunction(\n",
              "            'suggestCharts', [key], {});\n",
              "      } catch (error) {\n",
              "        console.error('Error during call to suggestCharts:', error);\n",
              "      }\n",
              "      quickchartButtonEl.classList.remove('colab-df-spinner');\n",
              "      quickchartButtonEl.classList.add('colab-df-quickchart-complete');\n",
              "    }\n",
              "    (() => {\n",
              "      let quickchartButtonEl =\n",
              "        document.querySelector('#df-117dbf55-ae48-47f6-ab14-66481b1f80e8 button');\n",
              "      quickchartButtonEl.style.display =\n",
              "        google.colab.kernel.accessAllowed ? 'block' : 'none';\n",
              "    })();\n",
              "  </script>\n",
              "</div>\n",
              "    </div>\n",
              "  </div>\n"
            ]
          },
          "metadata": {},
          "execution_count": 10
        }
      ]
    },
    {
      "cell_type": "markdown",
      "source": [
        "`label_1` (Speaker ID) column distribuiton"
      ],
      "metadata": {
        "id": "0WbYRdakUcYl"
      }
    },
    {
      "cell_type": "code",
      "source": [
        "plt.figure(figsize=(8, 6))\n",
        "train_df['label_1'].value_counts().sort_index().plot(kind='bar')\n",
        "plt.show()"
      ],
      "metadata": {
        "colab": {
          "base_uri": "https://localhost:8080/",
          "height": 526
        },
        "id": "nUES9ZXET33o",
        "outputId": "3cd9e42e-65e4-44b5-e1fc-ebd80592b8f2"
      },
      "execution_count": null,
      "outputs": [
        {
          "output_type": "display_data",
          "data": {
            "text/plain": [
              "<Figure size 800x600 with 1 Axes>"
            ],
            "image/png": "[encoded data removed]"
          },
          "metadata": {}
        }
      ]
    },
    {
      "cell_type": "markdown",
      "source": [
        "`label_2` (Speaker Age) column distribuiton"
      ],
      "metadata": {
        "id": "E1UaOs0DUtPC"
      }
    },
    {
      "cell_type": "code",
      "source": [
        "plt.figure(figsize=(8, 6))\n",
        "train_df['label_2'].value_counts().sort_index().plot(kind='bar')\n",
        "plt.show()"
      ],
      "metadata": {
        "colab": {
          "base_uri": "https://localhost:8080/",
          "height": 545
        },
        "outputId": "c9abe3cb-2634-4860-8c3c-da6a8f0b24ee",
        "id": "MDLR_M8YUtPI"
      },
      "execution_count": null,
      "outputs": [
        {
          "output_type": "display_data",
          "data": {
            "text/plain": [
              "<Figure size 800x600 with 1 Axes>"
            ],
            "image/png": "[encoded data removed]"
          },
          "metadata": {}
        }
      ]
    },
    {
      "cell_type": "markdown",
      "source": [
        "`label_3` (Speaker Gender) column distribuiton"
      ],
      "metadata": {
        "id": "CvwHawRQU7ya"
      }
    },
    {
      "cell_type": "code",
      "source": [
        "print(train_df[\"label_3\"].value_counts())\n",
        "print(22796 / 5724)"
      ],
      "metadata": {
        "colab": {
          "base_uri": "https://localhost:8080/"
        },
        "id": "IO0aDxcf3o7E",
        "outputId": "41c0480e-28b1-47b0-b15d-f9d6e40e1234"
      },
      "execution_count": null,
      "outputs": [
        {
          "output_type": "stream",
          "name": "stdout",
          "text": [
            "1    22796\n",
            "0     5724\n",
            "Name: label_3, dtype: int64\n",
            "3.9825296995108315\n"
          ]
        }
      ]
    },
    {
      "cell_type": "code",
      "source": [
        "plt.figure(figsize=(8, 6))\n",
        "train_df['label_3'].value_counts().sort_index().plot(kind='bar')\n",
        "plt.show()"
      ],
      "metadata": {
        "colab": {
          "base_uri": "https://localhost:8080/",
          "height": 517
        },
        "outputId": "6f66985d-31e0-4f50-ea5b-d810008a0f8c",
        "id": "-qNGxlD8U7ye"
      },
      "execution_count": null,
      "outputs": [
        {
          "output_type": "display_data",
          "data": {
            "text/plain": [
              "<Figure size 800x600 with 1 Axes>"
            ],
            "image/png": "[encoded data removed]"
          },
          "metadata": {}
        }
      ]
    },
    {
      "cell_type": "markdown",
      "source": [
        "`label_4` (Speaker Accent) column distribuiton"
      ],
      "metadata": {
        "id": "dQzvSna9VJD9"
      }
    },
    {
      "cell_type": "code",
      "source": [
        "print(train_df['label_4'].value_counts())\n",
        "print(19938 / 465)"
      ],
      "metadata": {
        "colab": {
          "base_uri": "https://localhost:8080/"
        },
        "id": "-Y9-6EAj34KS",
        "outputId": "13d17bbe-2926-4459-f32b-227618397ea7"
      },
      "execution_count": null,
      "outputs": [
        {
          "output_type": "stream",
          "name": "stdout",
          "text": [
            "6     19938\n",
            "2      1449\n",
            "0       955\n",
            "12      954\n",
            "7       938\n",
            "13      482\n",
            "1       481\n",
            "11      480\n",
            "10      480\n",
            "3       479\n",
            "5       478\n",
            "9       472\n",
            "4       469\n",
            "8       465\n",
            "Name: label_4, dtype: int64\n",
            "42.87741935483871\n"
          ]
        }
      ]
    },
    {
      "cell_type": "code",
      "source": [
        "plt.figure(figsize=(8, 6))\n",
        "train_df['label_4'].value_counts().sort_index().plot(kind='bar')\n",
        "plt.show()"
      ],
      "metadata": {
        "colab": {
          "base_uri": "https://localhost:8080/",
          "height": 526
        },
        "outputId": "edde6639-c3ff-4d95-a49a-070e5c2719d6",
        "id": "wm7BhBqGVJEA"
      },
      "execution_count": null,
      "outputs": [
        {
          "output_type": "display_data",
          "data": {
            "text/plain": [
              "<Figure size 800x600 with 1 Axes>"
            ],
            "image/png": "[encoded data removed]"
          },
          "metadata": {}
        }
      ]
    },
    {
      "cell_type": "markdown",
      "source": [
        "## Handle Missing Data"
      ],
      "metadata": {
        "id": "y6K0cS03f6H2"
      }
    },
    {
      "cell_type": "code",
      "source": [
        "count = train_df['label_2'].isna().sum()\n",
        "print(\"missing count in train:\", count)\n",
        "print(\"missing percentage in trian:\", round(count / train_df.shape[0] * 100, 3))\n",
        "\n",
        "count = valid_df['label_2'].isna().sum()\n",
        "print(\"missing count in valid:\", count)\n",
        "print(\"missing percentage in valid:\", round(count / valid_df.shape[0] * 100, 3))\n",
        "\n",
        "count = test_df['label_2'].isna().sum()\n",
        "print(\"missing count in test:\", count)\n",
        "print(\"missing percentage in test:\", round(count / test_df.shape[0] * 100, 3))"
      ],
      "metadata": {
        "colab": {
          "base_uri": "https://localhost:8080/"
        },
        "outputId": "a0c75af1-6b7b-45da-faf2-d6277aa21620",
        "id": "5HvmRMM9gaC6"
      },
      "execution_count": null,
      "outputs": [
        {
          "output_type": "stream",
          "name": "stdout",
          "text": [
            "missing count in train: 480\n",
            "missing percentage in trian: 1.683\n",
            "missing count in valid: 14\n",
            "missing percentage in valid: 1.867\n",
            "missing count in test: 6\n",
            "missing percentage in test: 0.8\n"
          ]
        }
      ]
    },
    {
      "cell_type": "code",
      "source": [
        "train_df_label_2 = train_df.dropna(subset=['label_2'])\n",
        "valid_df_label_2 = valid_df.dropna(subset=['label_2'])\n",
        "test_df_label_2 = test_df.dropna(subset=['label_2'])\n",
        "\n",
        "print(train_df_label_2.shape)\n",
        "print(valid_df_label_2.shape)"
      ],
      "metadata": {
        "colab": {
          "base_uri": "https://localhost:8080/"
        },
        "id": "JR_iftFNhCnn",
        "outputId": "bb603c3f-7312-4bda-996c-5d397dccd97b"
      },
      "execution_count": null,
      "outputs": [
        {
          "output_type": "stream",
          "name": "stdout",
          "text": [
            "(28040, 260)\n",
            "(736, 260)\n"
          ]
        }
      ]
    },
    {
      "cell_type": "markdown",
      "source": [
        "## Baseline Models"
      ],
      "metadata": {
        "id": "jp0SmQQpONa1"
      }
    },
    {
      "cell_type": "code",
      "source": [
        "from sklearn.metrics import accuracy_score, confusion_matrix\n",
        "from sklearn.metrics import mean_squared_error\n",
        "from sklearn.svm import SVC\n",
        "from sklearn.ensemble import RandomForestClassifier\n",
        "from sklearn.preprocessing import StandardScaler\n",
        "from joblib import dump, load\n",
        "\n",
        "import xgboost as xgb"
      ],
      "metadata": {
        "id": "8l-YPvuhLssi"
      },
      "execution_count": null,
      "outputs": []
    },
    {
      "cell_type": "markdown",
      "source": [
        "### Split Features and Labels"
      ],
      "metadata": {
        "id": "JE8AsCmUnzQ6"
      }
    },
    {
      "cell_type": "code",
      "source": [
        "standard_scaler = StandardScaler()\n",
        "\n",
        "X_train = standard_scaler.fit_transform(train_df.iloc[:, :256])\n",
        "X_valid = standard_scaler.transform(valid_df.iloc[:, :256])\n",
        "X_test = standard_scaler.transform(test_df.iloc[:, :256])\n",
        "\n",
        "X_train_label_2 = standard_scaler.fit_transform(train_df_label_2.iloc[:, :256])\n",
        "X_valid_label_2 = standard_scaler.transform(valid_df_label_2.iloc[:, :256])\n",
        "X_test_label_2 = standard_scaler.transform(test_df_label_2.iloc[:, :256])\n",
        "\n",
        "label_1_train = train_df[\"label_1\"]\n",
        "label_2_train = train_df_label_2[\"label_2\"]\n",
        "label_3_train = train_df[\"label_3\"]\n",
        "label_4_train = train_df[\"label_4\"]\n",
        "\n",
        "label_1_valid = valid_df[\"label_1\"]\n",
        "label_2_valid = valid_df_label_2[\"label_2\"]\n",
        "label_3_valid = valid_df[\"label_3\"]\n",
        "label_4_valid = valid_df[\"label_4\"]\n",
        "\n",
        "label_1_test = test_df[\"label_1\"]\n",
        "label_2_test = test_df_label_2[\"label_2\"]\n",
        "label_3_test = test_df[\"label_3\"]\n",
        "label_4_test = test_df[\"label_4\"]\n"
      ],
      "metadata": {
        "id": "dwkpX4b4L05k"
      },
      "execution_count": null,
      "outputs": []
    },
    {
      "cell_type": "markdown",
      "source": [
        "### Handling Imbalanced `label_4` (Speaker Accent)"
      ],
      "metadata": {
        "id": "PlUUKENy4drb"
      }
    },
    {
      "cell_type": "code",
      "source": [
        "from imblearn.over_sampling import RandomOverSampler\n",
        "from imblearn.under_sampling import RandomUnderSampler"
      ],
      "metadata": {
        "id": "kpix7cK_4jzI"
      },
      "execution_count": null,
      "outputs": []
    },
    {
      "cell_type": "code",
      "source": [
        "oversampler = RandomOverSampler(sampling_strategy=\"not majority\")\n",
        "undersampler = RandomUnderSampler(sampling_strategy=\"majority\")\n",
        "\n",
        "X_under, y_under = undersampler.fit_resample(X_train, label_4_train)"
      ],
      "metadata": {
        "id": "5x4bWoFJ4pSs"
      },
      "execution_count": null,
      "outputs": []
    },
    {
      "cell_type": "code",
      "source": [
        "counts = pd.DataFrame(y_under).value_counts().sort_index()\n",
        "\n",
        "plt.figure(figsize=(8, 6))\n",
        "counts.plot(kind='bar')\n",
        "plt.show()"
      ],
      "metadata": {
        "colab": {
          "base_uri": "https://localhost:8080/",
          "height": 561
        },
        "id": "1TczUaxy71pE",
        "outputId": "8e0ff507-184a-4f5c-fb95-98782e193735"
      },
      "execution_count": null,
      "outputs": [
        {
          "output_type": "display_data",
          "data": {
            "text/plain": [
              "<Figure size 800x600 with 1 Axes>"
            ],
            "image/png": "[encoded data removed]"
          },
          "metadata": {}
        }
      ]
    },
    {
      "cell_type": "markdown",
      "source": [
        "### Train and Evaluate Baseline Models"
      ],
      "metadata": {
        "id": "aXAlgYlcoA5z"
      }
    },
    {
      "cell_type": "code",
      "source": [
        "def train_svm(X_train, y_train, set_class_weight=False):\n",
        "  linear_svm = None\n",
        "  if (set_class_weight):\n",
        "    linear_svm = SVC(kernel='linear', class_weight='balanced')\n",
        "  else:\n",
        "    linear_svm = SVC(kernel='linear')\n",
        "\n",
        "  linear_svm.fit(X_train, y_train)\n",
        "  return linear_svm\n",
        "\n",
        "def train_random_forest(X_train, y_train):\n",
        "  rf_classifier = RandomForestClassifier(n_estimators=100, random_state=42)\n",
        "\n",
        "  rf_classifier.fit(X_train, y_train)\n",
        "  return rf_classifier\n",
        "\n",
        "def train_xg_boost_regression(X_train, y_train):\n",
        "  xgb_model = xgb.XGBRegressor(objective=\"reg:squarederror\", random_state=42)\n",
        "  xgb_model.fit(X_train, y_train)\n",
        "  return xgb_model\n",
        "\n",
        "def predict(X_valid, model):\n",
        "  pred = model.predict(X_valid)\n",
        "  return pred\n",
        "\n",
        "def calculate_accuracy(pred_y, valid_y):\n",
        "  accuracy = accuracy_score(valid_y, pred_y)\n",
        "  return accuracy\n",
        "\n",
        "def predict_and_calculate_accuracy(X, y, model, is_regression=False):\n",
        "  pred = predict(X, model)\n",
        "  if (is_regression):\n",
        "    return mean_squared_error(y, pred, squared=False)\n",
        "  return accuracy_score(pred, y)"
      ],
      "metadata": {
        "id": "Yhv-G2z2VWzp"
      },
      "execution_count": null,
      "outputs": []
    },
    {
      "cell_type": "code",
      "source": [
        "# SVM\n",
        "svm_1 = train_svm(X_train, label_1_train)"
      ],
      "metadata": {
        "id": "YPvN7ddKYQzT"
      },
      "execution_count": null,
      "outputs": []
    },
    {
      "cell_type": "code",
      "source": [
        "svm_3 = train_svm(X_train, label_3_train)"
      ],
      "metadata": {
        "id": "A4xha0MTzpsE"
      },
      "execution_count": null,
      "outputs": []
    },
    {
      "cell_type": "code",
      "source": [
        "svm_4 = train_svm(X_train, label_4_train, set_class_weight=True)\n",
        "svm_4_under = train_svm(X_under, y_under)"
      ],
      "metadata": {
        "id": "DEXvw67i1J2d"
      },
      "execution_count": null,
      "outputs": []
    },
    {
      "cell_type": "code",
      "source": [
        "# Random Forest\n",
        "rf_1 = train_random_forest(X_train, label_1_train)"
      ],
      "metadata": {
        "id": "YwzScCZ2hvwf"
      },
      "execution_count": null,
      "outputs": []
    },
    {
      "cell_type": "code",
      "source": [
        "rf_3 = train_random_forest(X_train, label_3_train)"
      ],
      "metadata": {
        "id": "OAlB99jk0X84"
      },
      "execution_count": null,
      "outputs": []
    },
    {
      "cell_type": "code",
      "source": [
        "rf_4 = train_random_forest(X_train, label_4_train)\n",
        "rf_4_under = train_random_forest(X_under, y_under)"
      ],
      "metadata": {
        "id": "IRhIJr1j1uRs"
      },
      "execution_count": null,
      "outputs": []
    },
    {
      "cell_type": "code",
      "source": [
        "# XGBoost\n",
        "xg_2 = train_xg_boost_regression(X_train_label_2, label_2_train)"
      ],
      "metadata": {
        "id": "38tqI_NdbhMV"
      },
      "execution_count": null,
      "outputs": []
    },
    {
      "cell_type": "code",
      "source": [
        "# Save models\n",
        "dump(svm_1, models_path + \"svm_1.joblib\")\n",
        "dump(svm_3, models_path + \"svm_3.joblib\")\n",
        "dump(svm_4, models_path + \"svm_4.joblib\")\n",
        "dump(svm_4_under, models_path + \"svm_4_under.joblib\")\n",
        "dump(rf_1, models_path + \"rf_1.joblib\")\n",
        "dump(rf_3, models_path + \"rf_3.joblib\")\n",
        "dump(rf_4, models_path + \"rf_4.joblib\")\n",
        "dump(rf_4_under, models_path + \"rf_4_under.joblib\")\n",
        "dump(xg_2, models_path + \"xg_2.joblib\")"
      ],
      "metadata": {
        "colab": {
          "base_uri": "https://localhost:8080/"
        },
        "id": "32ATWtorVeKv",
        "outputId": "54404a27-e421-4c2b-aa34-1b8f900965ac"
      },
      "execution_count": null,
      "outputs": [
        {
          "output_type": "execute_result",
          "data": {
            "text/plain": [
              "['/content/drive/MyDrive/colab-data/lab-1-feature-engineering/models/xg_2.joblib']"
            ]
          },
          "metadata": {},
          "execution_count": 157
        }
      ]
    },
    {
      "cell_type": "code",
      "source": [
        "# models\n",
        "svm_1 = load(models_path + \"svm_1.joblib\")\n",
        "svm_3 = load(models_path + \"svm_3.joblib\")\n",
        "svm_4 = load(models_path + \"svm_4.joblib\")\n",
        "svm_4_under = load(models_path + \"svm_4_under.joblib\")\n",
        "rf_1 = load(models_path + \"rf_1.joblib\")\n",
        "rf_3 = load(models_path + \"rf_3.joblib\")\n",
        "rf_4 = load(models_path + \"rf_4.joblib\")\n",
        "rf_4_under = load(models_path + \"rf_4_under.joblib\")\n",
        "xg_2 = load(models_path + \"xg_2.joblib\")"
      ],
      "metadata": {
        "id": "r_bZgtIPWVme"
      },
      "execution_count": null,
      "outputs": []
    },
    {
      "cell_type": "code",
      "source": [
        "# label_1 (Speaker ID)\n",
        "print(\"label_1 (Speaker ID)\")\n",
        "# SVM\n",
        "pred_valid_label_1_svm = predict(X_valid, svm_1)\n",
        "valid_accuracy_label_1_svm = calculate_accuracy(pred_valid_label_1_svm, label_1_valid)\n",
        "print(\"Validation Accuracy for predicting label_1 using SVM:\", round(valid_accuracy_label_1_svm, 3))\n",
        "pred_test_label_1_svm = predict(X_test, svm_1)\n",
        "test_accuracy_label_1_svm = calculate_accuracy(pred_test_label_1_svm, label_1_test)\n",
        "print(\"Test Accuracy for predicting label_1 using SVM:\", round(test_accuracy_label_1_svm, 3))\n",
        "\n",
        "# Random Forest\n",
        "pred_valid_label_1_rf = predict(X_valid, rf_1)\n",
        "valid_accuracy_label_1_rf = calculate_accuracy(pred_valid_label_1_rf, label_1_valid)\n",
        "print(\"Validation Accuracy for predicting label_1 using Random Forest:\", round(valid_accuracy_label_1_rf, 3))\n",
        "pred_test_label_1_rf = predict(X_test, rf_1)\n",
        "test_accuracy_label_1_rf = calculate_accuracy(pred_test_label_1_rf, label_1_test)\n",
        "print(\"Test Accuracy for predicting label_1 using Random Forest:\", round(test_accuracy_label_1_rf, 3))\n",
        "\n",
        "print(\"\\n\")\n",
        "\n",
        "# label_2 (Speaker Age)\n",
        "# XGBoost\n",
        "pred_valid_label_2_xgb = predict(X_valid_label_2, xg_2)\n",
        "valid_rmse_label_2_xgb = mean_squared_error(label_2_valid, pred_valid_label_2_xgb, squared=False)\n",
        "print(\"Validation RMSE for predicting label_2 using XGBoost:\", round(valid_rmse_label_2_xgb, 3))\n",
        "pred_test_label_2_xgb = predict(X_test_label_2, xg_2)\n",
        "test_rmse_label_2_xgb = mean_squared_error(label_2_test, pred_test_label_2_xgb, squared=False)\n",
        "print(\"Test RMSE for predicting label_2 using XGBoost:\", round(test_rmse_label_2_xgb, 3))\n",
        "\n",
        "print(\"\\n\")\n",
        "\n",
        "# label_3 (Speaker Gender)\n",
        "print(\"label_3 (Speaker Gender)\")\n",
        "# SVM\n",
        "pred_valid_label_3_svm = predict(X_valid, rf_3)\n",
        "valid_accuracy_label_3_svm = calculate_accuracy(pred_valid_label_3_svm, label_3_valid)\n",
        "print(\"Validation Accuracy for predicting label_3 using SVM:\", round(valid_accuracy_label_3_svm, 3))\n",
        "pred_test_label_3_svm = predict(X_test, svm_3)\n",
        "test_accuracy_label_3_svm = calculate_accuracy(pred_test_label_3_svm, label_3_test)\n",
        "print(\"Test Accuracy for predicting label_3 using SVM:\", round(test_accuracy_label_3_svm, 3))\n",
        "\n",
        "# Random Forest\n",
        "pred_valid_label_3_rf = predict(X_valid, rf_3)\n",
        "valid_accuracy_label_3_rf = calculate_accuracy(pred_valid_label_3_rf, label_3_valid)\n",
        "print(\"Validation Accuracy for predicting label_3 using Random Forest:\", round(valid_accuracy_label_3_rf, 3))\n",
        "pred_test_label_3_rf = predict(X_test, rf_3)\n",
        "test_accuracy_label_3_rf = calculate_accuracy(pred_test_label_3_rf, label_3_test)\n",
        "print(\"Accuracy for predicting label_3 using Random Forest:\", round(test_accuracy_label_3_rf, 3))\n",
        "\n",
        "print(\"\\n\")\n",
        "\n",
        "# label_4 (Speaker Accent)\n",
        "print(\"label_4 (Speaker Accent)\")\n",
        "# SVM\n",
        "pred_valid_label_4_svm = predict(X_valid, svm_4)\n",
        "valid_accuracy_label_4_svm = calculate_accuracy(pred_valid_label_4_svm, label_4_valid)\n",
        "print(\"Validation Accuracy for predicting label_4 using SVM:\", round(valid_accuracy_label_4_svm, 3))\n",
        "pred_test_label_4_svm = predict(X_test, svm_4)\n",
        "test_accuracy_label_4_svm = calculate_accuracy(pred_test_label_4_svm, label_4_test)\n",
        "print(\"Test Accuracy for predicting label_4 using SVM:\", round(test_accuracy_label_4_svm, 3))\n",
        "\n",
        "# Random Forest\n",
        "pred_valid_label_4_rf = predict(X_valid, rf_4)\n",
        "valid_accuracy_label_4_rf = calculate_accuracy(pred_valid_label_4_rf, label_4_valid)\n",
        "print(\"Validation Accuracy for predicting label_4 using Random Forest:\", round(valid_accuracy_label_4_rf, 3))\n",
        "pred_test_label_4_rf = predict(X_test, rf_4)\n",
        "test_accuracy_label_4_rf = calculate_accuracy(pred_test_label_4_rf, label_4_test)\n",
        "print(\"Accuracy for predicting label_4 using Random Forest:\", round(test_accuracy_label_4_rf, 3))\n",
        "\n",
        "# Using model trained with undersampled data for label_4\n",
        "print(\"\\nlabel_4 (Speaker Accent) - Undersampled\")\n",
        "# SVM\n",
        "pred_valid_label_4_svm = predict(X_valid, svm_4_under)\n",
        "valid_accuracy_label_4_svm = calculate_accuracy(pred_valid_label_4_svm, label_4_valid)\n",
        "print(\"Validation Accuracy for predicting label_4 using SVM:\", round(valid_accuracy_label_4_svm, 3))\n",
        "pred_test_label_4_svm = predict(X_test, svm_4_under)\n",
        "test_accuracy_label_4_svm = calculate_accuracy(pred_test_label_4_svm, label_4_test)\n",
        "print(\"Test Accuracy for predicting label_4 using SVM:\", round(test_accuracy_label_4_svm, 3))\n",
        "\n",
        "# Random Forest\n",
        "pred_valid_label_4_rf = predict(X_valid, rf_4_under)\n",
        "valid_accuracy_label_4_rf = calculate_accuracy(pred_valid_label_4_rf, label_4_valid)\n",
        "print(\"Validation Accuracy for predicting label_4 using Random Forest:\", round(valid_accuracy_label_4_rf, 3))\n",
        "pred_test_label_4_rf = predict(X_test, rf_4_under)\n",
        "test_accuracy_label_4_rf = calculate_accuracy(pred_test_label_4_rf, label_4_test)\n",
        "print(\"Accuracy for predicting label_4 using Random Forest:\", round(test_accuracy_label_4_rf, 3))"
      ],
      "metadata": {
        "colab": {
          "base_uri": "https://localhost:8080/"
        },
        "id": "5QpQ3M3Mhfuu",
        "outputId": "b5f78268-25c8-44b8-b8b9-35e4f13be1b3"
      },
      "execution_count": null,
      "outputs": [
        {
          "output_type": "stream",
          "name": "stdout",
          "text": [
            "label_1 (Speaker ID)\n",
            "Validation Accuracy for predicting label_1 using SVM: 0.991\n",
            "Test Accuracy for predicting label_1 using SVM: 0.989\n",
            "Validation Accuracy for predicting label_1 using Random Forest: 0.967\n",
            "Test Accuracy for predicting label_1 using Random Forest: 0.968\n",
            "\n",
            "\n",
            "Validation RMSE for predicting label_2 using XGBoost: 3.29\n",
            "Test RMSE for predicting label_2 using XGBoost: 3.143\n",
            "\n",
            "\n",
            "label_3 (Speaker Gender)\n",
            "Validation Accuracy for predicting label_3 using SVM: 0.995\n",
            "Test Accuracy for predicting label_3 using SVM: 1.0\n",
            "Validation Accuracy for predicting label_3 using Random Forest: 0.995\n",
            "Accuracy for predicting label_3 using Random Forest: 0.997\n",
            "\n",
            "\n",
            "label_4 (Speaker Accent)\n",
            "Validation Accuracy for predicting label_4 using SVM: 0.937\n",
            "Test Accuracy for predicting label_4 using SVM: 0.933\n",
            "Validation Accuracy for predicting label_4 using Random Forest: 0.844\n",
            "Accuracy for predicting label_4 using Random Forest: 0.857\n",
            "\n",
            "label_4 (Speaker Accent) - Undersampled\n",
            "Validation Accuracy for predicting label_4 using SVM: 0.767\n",
            "Test Accuracy for predicting label_4 using SVM: 0.767\n",
            "Validation Accuracy for predicting label_4 using Random Forest: 0.436\n",
            "Accuracy for predicting label_4 using Random Forest: 0.411\n"
          ]
        }
      ]
    },
    {
      "cell_type": "markdown",
      "source": [
        "## Feature Engineering"
      ],
      "metadata": {
        "id": "wAs6d6TQkMIB"
      }
    },
    {
      "cell_type": "markdown",
      "source": [
        "### Principal Component Analysis"
      ],
      "metadata": {
        "id": "DMDKUr_ce6nf"
      }
    },
    {
      "cell_type": "code",
      "source": [
        "from sklearn.decomposition import PCA"
      ],
      "metadata": {
        "id": "QAVAEWxikSYd"
      },
      "execution_count": null,
      "outputs": []
    },
    {
      "cell_type": "code",
      "source": [
        "pca = PCA(n_components=0.95, svd_solver='full')\n",
        "X_train_pca = pca.fit_transform(X_train)\n",
        "X_valid_pca = pca.transform(X_valid)\n",
        "X_test_pca = pca.transform(X_test)\n",
        "\n",
        "exp_var_pca_1 = pca.explained_variance_ratio_\n",
        "cum_sum_eigenvalues_1 = np.cumsum(exp_var_pca_1)\n",
        "\n",
        "X_train_label_2_pca = pca.fit_transform(X_train_label_2)\n",
        "X_valid_label_2_pca = pca.transform(X_valid_label_2)\n",
        "X_test_label_2_pca = pca.transform(X_test_label_2)\n",
        "\n",
        "exp_var_pca_2 = pca.explained_variance_ratio_\n",
        "cum_sum_eigenvalues_2 = np.cumsum(exp_var_pca_2)"
      ],
      "metadata": {
        "id": "8emET9qRB_jc"
      },
      "execution_count": null,
      "outputs": []
    },
    {
      "cell_type": "code",
      "source": [
        "plt.bar(range(0, len(exp_var_pca_1)), exp_var_pca_1, alpha=0.5, label=\"Individual explained variance\")\n",
        "plt.step(range(0, len(cum_sum_eigenvalues_1)), cum_sum_eigenvalues_1, where=\"mid\", label=\"Cumulative explained variance\")\n",
        "plt.ylabel('Explained variance ratio')\n",
        "plt.xlabel('Principal component index')\n",
        "plt.legend(loc='best')\n",
        "plt.tight_layout()\n",
        "plt.show()"
      ],
      "metadata": {
        "colab": {
          "base_uri": "https://localhost:8080/",
          "height": 487
        },
        "id": "It_Jjx4YdCb2",
        "outputId": "33485e76-7b2f-4606-da32-70c2196b5d95"
      },
      "execution_count": null,
      "outputs": [
        {
          "output_type": "display_data",
          "data": {
            "text/plain": [
              "<Figure size 640x480 with 1 Axes>"
            ],
            "image/png": "[encoded data removed]"
          },
          "metadata": {}
        }
      ]
    },
    {
      "cell_type": "code",
      "source": [
        "print(X_train_pca.shape)\n",
        "print(X_valid_pca.shape)\n",
        "print(X_test_pca.shape)"
      ],
      "metadata": {
        "colab": {
          "base_uri": "https://localhost:8080/"
        },
        "id": "62dS6pgeC5zc",
        "outputId": "c03768c8-ce45-4484-a285-ca6c1b26b013"
      },
      "execution_count": null,
      "outputs": [
        {
          "output_type": "stream",
          "name": "stdout",
          "text": [
            "(28520, 67)\n",
            "(750, 67)\n",
            "(750, 67)\n"
          ]
        }
      ]
    },
    {
      "cell_type": "markdown",
      "source": [
        "#### Predicting Label 1 (Speaker ID)"
      ],
      "metadata": {
        "id": "blJUA2JNgqAn"
      }
    },
    {
      "cell_type": "code",
      "source": [
        "# SVM\n",
        "svm_1_pca = train_svm(X_train_pca, label_1_train)\n",
        "\n",
        "# Random Forest\n",
        "rf_1_pca = train_random_forest(X_train_pca, label_1_train)"
      ],
      "metadata": {
        "id": "34yMAqitDGRR"
      },
      "execution_count": null,
      "outputs": []
    },
    {
      "cell_type": "code",
      "source": [
        "dump(svm_1_pca, models_path + \"svm_1_pca.joblib\")\n",
        "dump(rf_1_pca, models_path + \"rf_1_pca.joblib\")"
      ],
      "metadata": {
        "colab": {
          "base_uri": "https://localhost:8080/"
        },
        "id": "f47WcUcUhIl5",
        "outputId": "564f597f-3d07-444b-d22d-a242688a6ade"
      },
      "execution_count": null,
      "outputs": [
        {
          "output_type": "execute_result",
          "data": {
            "text/plain": [
              "['/content/drive/MyDrive/colab-data/lab-1-feature-engineering/models/rf_1_pca.joblib']"
            ]
          },
          "metadata": {},
          "execution_count": 166
        }
      ]
    },
    {
      "cell_type": "code",
      "source": [
        "svm_1_pca = load(models_path + \"svm_1_pca.joblib\")\n",
        "rf_1_pca = load(models_path + \"rf_1_pca.joblib\")"
      ],
      "metadata": {
        "id": "fjl57becjsF_"
      },
      "execution_count": null,
      "outputs": []
    },
    {
      "cell_type": "code",
      "source": [
        "# validation data\n",
        "pred_valid_label_1_svm_pca = predict(X_valid_pca, svm_1_pca)\n",
        "valid_accuracy_label_1_svm_pca = calculate_accuracy(pred_valid_label_1_svm_pca, label_1_valid)\n",
        "print(\"Validation Accuracy for predicting label_1 using SVM:\", round(valid_accuracy_label_1_svm_pca, 3))\n",
        "\n",
        "pred_valid_label_1_rf_pca = predict(X_valid_pca, rf_1_pca)\n",
        "valid_accuracy_label_1_rf_pca = calculate_accuracy(pred_valid_label_1_rf_pca, label_1_valid)\n",
        "print(\"Validation Accuracy for predicting label_1 using Random Forest:\", round(valid_accuracy_label_1_rf_pca, 3))\n",
        "\n",
        "# test data\n",
        "pred_test_label_1_svm_pca = predict(X_test_pca, svm_1_pca)\n",
        "test_accuracy_label_1_svm_pca = calculate_accuracy(pred_test_label_1_svm_pca, label_1_test)\n",
        "print(\"Test Accuracy for predicting label_1 using SVM:\", round(test_accuracy_label_1_svm_pca, 3))\n",
        "\n",
        "pred_test_label_1_rf_pca = predict(X_test_pca, rf_1_pca)\n",
        "test_accuracy_label_1_rf_pca = calculate_accuracy(pred_test_label_1_rf_pca, label_1_test)\n",
        "print(\"Test Accuracy for predicting label_1 using Random Forest:\", round(test_accuracy_label_1_rf_pca, 3))"
      ],
      "metadata": {
        "colab": {
          "base_uri": "https://localhost:8080/"
        },
        "id": "H-3_rQVfDtFE",
        "outputId": "7d000fd0-13fc-4c15-d229-9d8f2d7c1210"
      },
      "execution_count": null,
      "outputs": [
        {
          "output_type": "stream",
          "name": "stdout",
          "text": [
            "Validation Accuracy for predicting label_1 using SVM: 0.981\n",
            "Validation Accuracy for predicting label_1 using Random Forest: 0.967\n",
            "Test Accuracy for predicting label_1 using SVM: 0.973\n",
            "Test Accuracy for predicting label_1 using Random Forest: 0.975\n"
          ]
        }
      ]
    },
    {
      "cell_type": "markdown",
      "source": [
        "#### Predicting Label 2 (Speaker Age)"
      ],
      "metadata": {
        "id": "424nm-flrtSn"
      }
    },
    {
      "cell_type": "code",
      "source": [
        "# XGBoost\n",
        "xgb_2_pca = train_xg_boost_regression(X_train_label_2_pca, label_2_train)"
      ],
      "metadata": {
        "id": "vtmhM3pJrtSu"
      },
      "execution_count": null,
      "outputs": []
    },
    {
      "cell_type": "code",
      "source": [
        "dump(xgb_2_pca, models_path + \"xgb_2_pca.joblib\")"
      ],
      "metadata": {
        "colab": {
          "base_uri": "https://localhost:8080/"
        },
        "outputId": "7f07117a-332e-416e-d45d-c2b9886c923f",
        "id": "rUCWfsA0rtSw"
      },
      "execution_count": null,
      "outputs": [
        {
          "output_type": "execute_result",
          "data": {
            "text/plain": [
              "['/content/drive/MyDrive/colab-data/lab-1-feature-engineering/models/xgb_2_pca.joblib']"
            ]
          },
          "metadata": {},
          "execution_count": 170
        }
      ]
    },
    {
      "cell_type": "code",
      "source": [
        "xgb_2_pca = load(models_path + \"xgb_2_pca.joblib\")"
      ],
      "metadata": {
        "id": "-p6h7TcbrtSy"
      },
      "execution_count": null,
      "outputs": []
    },
    {
      "cell_type": "code",
      "source": [
        "# validation data\n",
        "pred_valid_label_2_xgb_pca = predict(X_valid_label_2_pca, xgb_2_pca)\n",
        "valid_rmse_label_2_xgb_pca = mean_squared_error(label_2_valid, pred_valid_label_2_xgb_pca, squared=False)\n",
        "print(\"Validation RMSE for predicting label_2 using XGBoost:\", round(valid_rmse_label_2_xgb_pca, 3))\n",
        "\n",
        "# test data\n",
        "pred_test_label_2_xgb_pca = predict(X_test_label_2_pca, xgb_2_pca)\n",
        "test_rmse_label_2_xgb_pca = mean_squared_error(label_2_test, pred_test_label_2_xgb_pca, squared=False)\n",
        "print(\"Test RMSE for predicting label_2 using XGBoost:\", round(test_rmse_label_2_xgb_pca, 3))"
      ],
      "metadata": {
        "colab": {
          "base_uri": "https://localhost:8080/"
        },
        "outputId": "4f951d77-1889-4201-f95e-b8b4b932b9be",
        "id": "Ga9YhE6zrtS0"
      },
      "execution_count": null,
      "outputs": [
        {
          "output_type": "stream",
          "name": "stdout",
          "text": [
            "Validation RMSE for predicting label_2 using XGBoost: 3.675\n",
            "Test RMSE for predicting label_2 using XGBoost: 3.403\n"
          ]
        }
      ]
    },
    {
      "cell_type": "markdown",
      "source": [
        "#### Predicting Label 3 (Speaker Gender)"
      ],
      "metadata": {
        "id": "uuQFGLelopj2"
      }
    },
    {
      "cell_type": "code",
      "source": [
        "# SVM\n",
        "svm_3_pca = train_svm(X_train_pca, label_3_train)\n",
        "\n",
        "# Random Forest\n",
        "rf_3_pca = train_random_forest(X_train_pca, label_3_train)"
      ],
      "metadata": {
        "id": "UIuaOEvOoeKW"
      },
      "execution_count": null,
      "outputs": []
    },
    {
      "cell_type": "code",
      "source": [
        "dump(svm_3_pca, models_path + \"svm_3_pca.joblib\")\n",
        "dump(rf_3_pca, models_path + \"rf_3_pca.joblib\")"
      ],
      "metadata": {
        "colab": {
          "base_uri": "https://localhost:8080/"
        },
        "outputId": "66eed677-257d-4f8c-ab49-f22ff4d646f2",
        "id": "_HoiO34go-pf"
      },
      "execution_count": null,
      "outputs": [
        {
          "output_type": "execute_result",
          "data": {
            "text/plain": [
              "['/content/drive/MyDrive/colab-data/lab-1-feature-engineering/models/rf_3_pca.joblib']"
            ]
          },
          "metadata": {},
          "execution_count": 174
        }
      ]
    },
    {
      "cell_type": "code",
      "source": [
        "svm_3_pca = load(models_path + \"svm_3_pca.joblib\")\n",
        "rf_3_pca = load(models_path + \"rf_3_pca.joblib\")"
      ],
      "metadata": {
        "id": "Lwk4kejfpKtq"
      },
      "execution_count": null,
      "outputs": []
    },
    {
      "cell_type": "code",
      "source": [
        "# validation data\n",
        "pred_valid_label_3_svm_pca = predict(X_valid_pca, svm_3_pca)\n",
        "valid_accuracy_label_3_svm_pca = calculate_accuracy(pred_valid_label_3_svm_pca, label_3_valid)\n",
        "print(\"Validation Accuracy for predicting label_3 using SVM:\", round(valid_accuracy_label_3_svm_pca, 3))\n",
        "\n",
        "pred_valid_label_3_rf_pca = predict(X_valid_pca, rf_3_pca)\n",
        "valid_accuracy_label_3_rf_pca = calculate_accuracy(pred_valid_label_3_rf_pca, label_3_valid)\n",
        "print(\"Validation Accuracy for predicting label_3 using Random Forest:\", round(valid_accuracy_label_3_rf_pca, 3))\n",
        "\n",
        "# test data\n",
        "pred_test_label_3_svm_pca = predict(X_test_pca, svm_3_pca)\n",
        "test_accuracy_label_3_svm_pca = calculate_accuracy(pred_test_label_3_svm_pca, label_3_test)\n",
        "print(\"Test Accuracy for predicting label_3 using SVM:\", round(test_accuracy_label_3_svm_pca, 3))\n",
        "\n",
        "pred_test_label_3_rf_pca = predict(X_test_pca, rf_3_pca)\n",
        "test_accuracy_label_3_rf_pca = calculate_accuracy(pred_test_label_3_rf_pca, label_3_test)\n",
        "print(\"Test Accuracy for predicting label_3 using Random Forest:\", round(test_accuracy_label_3_rf_pca, 3))"
      ],
      "metadata": {
        "colab": {
          "base_uri": "https://localhost:8080/"
        },
        "outputId": "34d4c133-4561-4c09-946c-72fba72d11a0",
        "id": "ogEwAQzfpXic"
      },
      "execution_count": null,
      "outputs": [
        {
          "output_type": "stream",
          "name": "stdout",
          "text": [
            "Validation Accuracy for predicting label_3 using SVM: 0.999\n",
            "Validation Accuracy for predicting label_3 using Random Forest: 0.999\n",
            "Test Accuracy for predicting label_3 using SVM: 0.997\n",
            "Test Accuracy for predicting label_3 using Random Forest: 0.992\n"
          ]
        }
      ]
    },
    {
      "cell_type": "markdown",
      "source": [
        "#### Predicting Label 4 (Speaker Accent)"
      ],
      "metadata": {
        "id": "mnjV2OyIqVc8"
      }
    },
    {
      "cell_type": "code",
      "source": [
        "# SVM\n",
        "svm_4_pca = train_svm(X_train_pca, label_4_train)\n",
        "\n",
        "# Random Forest\n",
        "rf_4_pca = train_random_forest(X_train_pca, label_4_train)"
      ],
      "metadata": {
        "id": "TKVAKIVSqVdF"
      },
      "execution_count": null,
      "outputs": []
    },
    {
      "cell_type": "code",
      "source": [
        "dump(svm_4_pca, models_path + \"svm_4_pca.joblib\")\n",
        "dump(rf_4_pca, models_path + \"rf_4_pca.joblib\")"
      ],
      "metadata": {
        "colab": {
          "base_uri": "https://localhost:8080/"
        },
        "outputId": "d8bead40-1cdc-4200-cfa1-f8ec77d8299b",
        "id": "SXw0hVdLqVdI"
      },
      "execution_count": null,
      "outputs": [
        {
          "output_type": "execute_result",
          "data": {
            "text/plain": [
              "['/content/drive/MyDrive/colab-data/lab-1-feature-engineering/models/rf_4_pca.joblib']"
            ]
          },
          "metadata": {},
          "execution_count": 179
        }
      ]
    },
    {
      "cell_type": "code",
      "source": [
        "svm_4_pca = load(models_path + \"svm_4_pca.joblib\")\n",
        "rf_4_pca = load(models_path + \"rf_4_pca.joblib\")"
      ],
      "metadata": {
        "id": "eLF4AkV8qVdK"
      },
      "execution_count": null,
      "outputs": []
    },
    {
      "cell_type": "code",
      "source": [
        "# validation data\n",
        "pred_valid_label_4_svm_pca = predict(X_valid_pca, svm_4_pca)\n",
        "valid_accuracy_label_4_svm_pca = calculate_accuracy(pred_valid_label_4_svm_pca, label_4_valid)\n",
        "print(\"Validation Accuracy for predicting label_4 using SVM:\", round(valid_accuracy_label_4_svm_pca, 3))\n",
        "\n",
        "pred_valid_label_4_rf_pca = predict(X_valid_pca, rf_4_pca)\n",
        "valid_accuracy_label_4_rf_pca = calculate_accuracy(pred_valid_label_4_rf_pca, label_4_valid)\n",
        "print(\"Validation Accuracy for predicting label_4 using Random Forest:\", round(valid_accuracy_label_4_rf_pca, 3))\n",
        "\n",
        "# test data\n",
        "pred_test_label_4_svm_pca = predict(X_test_pca, svm_4_pca)\n",
        "test_accuracy_label_4_svm_pca = calculate_accuracy(pred_test_label_4_svm_pca, label_4_test)\n",
        "print(\"Test Accuracy for predicting label_4 using SVM:\", round(test_accuracy_label_4_svm_pca, 3))\n",
        "\n",
        "pred_test_label_4_rf_pca = predict(X_test_pca, rf_4_pca)\n",
        "test_accuracy_label_4_rf_pca = calculate_accuracy(pred_test_label_4_rf_pca, label_4_test)\n",
        "print(\"Test Accuracy for predicting label_4 using Random Forest:\", round(test_accuracy_label_4_rf_pca, 3))"
      ],
      "metadata": {
        "colab": {
          "base_uri": "https://localhost:8080/"
        },
        "outputId": "d7db9ec1-101e-4a63-8af0-a23a820bf08c",
        "id": "8IvrFDLtqVdM"
      },
      "execution_count": null,
      "outputs": [
        {
          "output_type": "stream",
          "name": "stdout",
          "text": [
            "Validation Accuracy for predicting label_4 using SVM: 0.908\n",
            "Validation Accuracy for predicting label_4 using Random Forest: 0.821\n",
            "Test Accuracy for predicting label_4 using SVM: 0.924\n",
            "Test Accuracy for predicting label_4 using Random Forest: 0.831\n"
          ]
        }
      ]
    },
    {
      "cell_type": "markdown",
      "source": [
        "### ANOVA F-test"
      ],
      "metadata": {
        "id": "0yKWlIEDNq3_"
      }
    },
    {
      "cell_type": "code",
      "source": [
        "from sklearn.feature_selection import SelectKBest\n",
        "from sklearn.feature_selection import f_classif, f_regression\n",
        "from sklearn.model_selection import GridSearchCV\n",
        "from sklearn.pipeline import Pipeline"
      ],
      "metadata": {
        "id": "D635dNg6NvqF"
      },
      "execution_count": null,
      "outputs": []
    },
    {
      "cell_type": "code",
      "source": [
        "fs_classif = SelectKBest(score_func=f_classif, k=67)\n",
        "fs_classif.fit(X_train, label_1_train)\n",
        "\n",
        "X_train_fs = fs_classif.transform(X_train)\n",
        "X_valid_fs = fs_classif.transform(X_valid)\n",
        "X_test_fs = fs_classif.transform(X_test)\n",
        "\n",
        "fs_reg = SelectKBest(score_func=f_regression, k=67)\n",
        "fs_reg.fit(X_train_label_2, label_2_train)\n",
        "\n",
        "X_train_label_2_fs = fs_reg.transform(X_train_label_2)\n",
        "X_valid_label_2_fs = fs_classif.transform(X_valid_label_2)\n",
        "X_test_label_2_fs = fs_classif.transform(X_test_label_2)"
      ],
      "metadata": {
        "id": "sBcXlZllOICo"
      },
      "execution_count": null,
      "outputs": []
    },
    {
      "cell_type": "code",
      "source": [
        "svm_1_fs = train_svm(X_train_fs, label_1_train)\n",
        "rf_1_fs = train_random_forest(X_train_fs, label_1_train)\n",
        "\n",
        "xgb_2_fs = train_xg_boost_regression(X_train_label_2_fs, label_2_train)\n",
        "\n",
        "svm_3_fs = train_svm(X_train_fs, label_3_train)\n",
        "rf_3_fs = train_random_forest(X_train_fs, label_3_train)\n",
        "\n",
        "svm_4_fs = train_svm(X_train_fs, label_4_train)\n",
        "rf_4_fs = train_random_forest(X_train_fs, label_4_train)"
      ],
      "metadata": {
        "id": "taTtnrzOwYvA"
      },
      "execution_count": null,
      "outputs": []
    },
    {
      "cell_type": "code",
      "source": [
        "dump(svm_1_fs, models_path + \"svm_1_fs.joblib\")\n",
        "dump(rf_1_fs, models_path + \"rf_1_fs.joblib\")\n",
        "dump(xgb_2_fs, models_path + \"xgb_2_fs.joblib\")\n",
        "dump(svm_3_fs, models_path + \"svm_3_fs.joblib\")\n",
        "dump(rf_3_fs, models_path + \"rf_3_fs.joblib\")\n",
        "dump(svm_4_fs, models_path + \"svm_4_fs.joblib\")\n",
        "dump(rf_4_fs, models_path + \"rf_4_fs.joblib\")"
      ],
      "metadata": {
        "colab": {
          "base_uri": "https://localhost:8080/"
        },
        "id": "H4Zeq_cgxNtS",
        "outputId": "228be7ac-ffdb-4015-ab7d-2d284f4358f3"
      },
      "execution_count": null,
      "outputs": [
        {
          "output_type": "execute_result",
          "data": {
            "text/plain": [
              "['/content/drive/MyDrive/colab-data/lab-1-feature-engineering/models/rf_4_fs.joblib']"
            ]
          },
          "metadata": {},
          "execution_count": 185
        }
      ]
    },
    {
      "cell_type": "code",
      "source": [
        "svm_1_fs = load(models_path + \"svm_1_fs.joblib\")\n",
        "rf_1_fs = load(models_path + \"rf_1_fs.joblib\")\n",
        "xgb_2_fs = load(models_path + \"xgb_2_fs.joblib\")\n",
        "svm_3_fs = load(models_path + \"svm_3_fs.joblib\")\n",
        "rf_3_fs = load(models_path + \"rf_3_fs.joblib\")\n",
        "svm_4_fs = load(models_path + \"svm_4_fs.joblib\")\n",
        "rf_4_fs = load(models_path + \"rf_4_fs.joblib\")"
      ],
      "metadata": {
        "id": "6bIWu5CDxwdM"
      },
      "execution_count": null,
      "outputs": []
    },
    {
      "cell_type": "code",
      "source": [
        "# label_1\n",
        "# validation data\n",
        "pred_valid_label_1_svm_fs = predict(X_valid_fs, svm_1_fs)\n",
        "valid_accuracy_label_1_svm_fs = calculate_accuracy(pred_valid_label_1_svm_fs, label_1_valid)\n",
        "print(\"Validation Accuracy for predicting label_1 using SVM:\", round(valid_accuracy_label_1_svm_fs, 3))\n",
        "\n",
        "pred_valid_label_1_rf_fs = predict(X_valid_fs, rf_1_fs)\n",
        "valid_accuracy_label_1_rf_fs = calculate_accuracy(pred_valid_label_1_rf_fs, label_1_valid)\n",
        "print(\"Validation Accuracy for predicting label_1 using Random Forest:\", round(valid_accuracy_label_1_rf_fs, 3))\n",
        "\n",
        "# test data\n",
        "pred_test_label_1_svm_fs = predict(X_test_fs, svm_1_fs)\n",
        "test_accuracy_label_1_svm_fs = calculate_accuracy(pred_test_label_1_svm_fs, label_1_test)\n",
        "print(\"Test Accuracy for predicting label_1 using SVM:\", round(test_accuracy_label_1_svm_fs, 3))\n",
        "\n",
        "pred_test_label_1_rf_fs = predict(X_test_fs, rf_1_fs)\n",
        "test_accuracy_label_1_rf_fs = calculate_accuracy(pred_test_label_1_rf_fs, label_1_test)\n",
        "print(\"Test Accuracy for predicting label_1 using Random Forest:\", round(test_accuracy_label_1_rf_fs, 3))\n",
        "\n",
        "print(\"\\n\")\n",
        "\n",
        "# label_2\n",
        "# validation data\n",
        "pred_valid_label_2_xgb_fs = predict(X_valid_label_2_fs, xgb_2_fs)\n",
        "valid_rmse_label_2_xgb_fs = mean_squared_error(label_2_valid, pred_valid_label_2_xgb_fs, squared=False)\n",
        "print(\"Validation RMSE for predicting label_2 using XGBoost:\", round(valid_rmse_label_2_xgb_fs, 3))\n",
        "\n",
        "# test data\n",
        "pred_test_label_2_xgb_fs = predict(X_test_label_2_fs, xgb_2_fs)\n",
        "test_rmse_label_2_xgb_fs = mean_squared_error(label_2_test, pred_test_label_2_xgb_fs, squared=False)\n",
        "print(\"Test RMSE for predicting label_2 using XGBoost:\", round(test_rmse_label_2_xgb_fs, 3))\n",
        "\n",
        "print(\"\\n\")\n",
        "\n",
        "# label_3\n",
        "# validation data\n",
        "pred_valid_label_3_svm_fs = predict(X_valid_fs, svm_3_fs)\n",
        "valid_accuracy_label_3_svm_fs = calculate_accuracy(pred_valid_label_3_svm_fs, label_3_valid)\n",
        "print(\"Validation Accuracy for predicting label_3 using SVM:\", round(valid_accuracy_label_3_svm_fs, 3))\n",
        "\n",
        "pred_valid_label_3_rf_fs = predict(X_valid_fs, rf_3_fs)\n",
        "valid_accuracy_label_3_rf_fs = calculate_accuracy(pred_valid_label_3_rf_fs, label_3_valid)\n",
        "print(\"Validation Accuracy for predicting label_3 using Random Forest:\", round(valid_accuracy_label_3_rf_fs, 3))\n",
        "\n",
        "# test data\n",
        "pred_test_label_3_svm_fs = predict(X_test_fs, svm_3_fs)\n",
        "test_accuracy_label_3_svm_fs = calculate_accuracy(pred_test_label_3_svm_fs, label_3_test)\n",
        "print(\"Test Accuracy for predicting label_3 using SVM:\", round(test_accuracy_label_3_svm_fs, 3))\n",
        "\n",
        "pred_test_label_3_rf_fs = predict(X_test_fs, rf_3_fs)\n",
        "test_accuracy_label_3_rf_fs = calculate_accuracy(pred_test_label_3_rf_fs, label_3_test)\n",
        "print(\"Test Accuracy for predicting label_3 using Random Forest:\", round(test_accuracy_label_3_rf_fs, 3))\n",
        "\n",
        "print(\"\\n\")\n",
        "\n",
        "# label_4\n",
        "# validation data\n",
        "pred_valid_label_4_svm_fs = predict(X_valid_fs, svm_4_fs)\n",
        "valid_accuracy_label_4_svm_fs = calculate_accuracy(pred_valid_label_4_svm_fs, label_4_valid)\n",
        "print(\"Validation Accuracy for predicting label_4 using SVM:\", round(valid_accuracy_label_4_svm_fs, 3))\n",
        "\n",
        "pred_valid_label_4_rf_fs = predict(X_valid_fs, rf_4_fs)\n",
        "valid_accuracy_label_4_rf_fs = calculate_accuracy(pred_valid_label_4_rf_fs, label_4_valid)\n",
        "print(\"Validation Accuracy for predicting label_4 using Random Forest:\", round(valid_accuracy_label_4_rf_fs, 3))\n",
        "\n",
        "# test data\n",
        "pred_test_label_4_svm_fs = predict(X_test_fs, svm_4_fs)\n",
        "test_accuracy_label_4_svm_fs = calculate_accuracy(pred_test_label_4_svm_fs, label_4_test)\n",
        "print(\"Test Accuracy for predicting label_4 using SVM:\", round(test_accuracy_label_4_svm_fs, 3))\n",
        "\n",
        "pred_test_label_4_rf_fs = predict(X_test_fs, rf_4_fs)\n",
        "test_accuracy_label_4_rf_fs = calculate_accuracy(pred_test_label_4_rf_fs, label_4_test)\n",
        "print(\"Test Accuracy for predicting label_4 using Random Forest:\", round(test_accuracy_label_4_rf_fs, 3))\n"
      ],
      "metadata": {
        "colab": {
          "base_uri": "https://localhost:8080/"
        },
        "id": "yvSOp2RFOte7",
        "outputId": "bc3de041-44c6-4b40-84b5-6f86213586cb"
      },
      "execution_count": null,
      "outputs": [
        {
          "output_type": "stream",
          "name": "stdout",
          "text": [
            "Validation Accuracy for predicting label_1 using SVM: 0.957\n",
            "Validation Accuracy for predicting label_1 using Random Forest: 0.947\n",
            "Test Accuracy for predicting label_1 using SVM: 0.956\n",
            "Test Accuracy for predicting label_1 using Random Forest: 0.928\n",
            "\n",
            "\n",
            "Validation RMSE for predicting label_2 using XGBoost: 7.282\n",
            "Test RMSE for predicting label_2 using XGBoost: 6.64\n",
            "\n",
            "\n",
            "Validation Accuracy for predicting label_3 using SVM: 0.997\n",
            "Validation Accuracy for predicting label_3 using Random Forest: 0.993\n",
            "Test Accuracy for predicting label_3 using SVM: 0.997\n",
            "Test Accuracy for predicting label_3 using Random Forest: 0.993\n",
            "\n",
            "\n",
            "Validation Accuracy for predicting label_4 using SVM: 0.895\n",
            "Validation Accuracy for predicting label_4 using Random Forest: 0.84\n",
            "Test Accuracy for predicting label_4 using SVM: 0.913\n",
            "Test Accuracy for predicting label_4 using Random Forest: 0.855\n"
          ]
        }
      ]
    },
    {
      "cell_type": "markdown",
      "source": [
        "## CSV File Generation"
      ],
      "metadata": {
        "id": "QwOmSqH19Mir"
      }
    },
    {
      "cell_type": "code",
      "source": [
        "import csv"
      ],
      "metadata": {
        "id": "7dQZdqEI9Q8-"
      },
      "execution_count": null,
      "outputs": []
    },
    {
      "cell_type": "code",
      "source": [
        "output_path = \"/content/drive/MyDrive/colab-data/lab-1-feature-engineering/output/\"\n",
        "file_prefix = \"190111B_\"\n",
        "labels = [\"label_1\", \"label_2\", \"label_3\", \"label_4\"]"
      ],
      "metadata": {
        "id": "c57a_Feu9TP_"
      },
      "execution_count": null,
      "outputs": []
    },
    {
      "cell_type": "code",
      "source": [
        "print(len(X_test_pca[:,0]))"
      ],
      "metadata": {
        "colab": {
          "base_uri": "https://localhost:8080/"
        },
        "id": "_QU_sxUPgEwr",
        "outputId": "ced007a4-e3c7-4287-9c46-18931ab567e6"
      },
      "execution_count": null,
      "outputs": [
        {
          "output_type": "stream",
          "name": "stdout",
          "text": [
            "750\n"
          ]
        }
      ]
    },
    {
      "cell_type": "code",
      "source": [
        "predictions_before = [pred_test_label_1_svm, pred_test_label_2_xgb, pred_test_label_3_svm, pred_test_label_4_svm]\n",
        "predictions_after = [pred_test_label_1_svm_pca, pred_test_label_2_xgb_pca, pred_test_label_3_svm_pca, pred_test_label_4_svm_pca]\n",
        "\n",
        "def create_dataframe_for_label(label_idx):\n",
        "  df = pd.DataFrame()\n",
        "  df[\"Predicted labels before feature engineering\"] = predictions_before[label_idx]\n",
        "  df[\"Predicted labels after feature engineering\"] = predictions_after[label_idx]\n",
        "  new_feature_count = X_test_pca.shape[1]\n",
        "  df[\"No of new features\"] = new_feature_count\n",
        "  for i in range(new_feature_count):\n",
        "    if (label_idx == 1):\n",
        "      df[\"new_feature_\" + str(i+1)] = X_test_label_2_pca[:, i]\n",
        "    else:\n",
        "      df[\"new_feature_\" + str(i+1)] = X_test_pca[:, i]\n",
        "\n",
        "  empty_columns = []\n",
        "  for j in range(new_feature_count,256):\n",
        "    empty_columns.append(\"new_feature_\" + str(j+1))\n",
        "\n",
        "  df = pd.concat([df, pd.DataFrame(columns=empty_columns)])\n",
        "  return df\n"
      ],
      "metadata": {
        "id": "DNH0sPm5Lw-N"
      },
      "execution_count": null,
      "outputs": []
    },
    {
      "cell_type": "code",
      "source": [
        "create_dataframe_for_label(2)"
      ],
      "metadata": {
        "colab": {
          "base_uri": "https://localhost:8080/",
          "height": 513
        },
        "id": "_NR4GEQCkRuR",
        "outputId": "1544a71a-7469-4c90-b382-fc12c87ecdda"
      },
      "execution_count": null,
      "outputs": [
        {
          "output_type": "execute_result",
          "data": {
            "text/plain": [
              "     Predicted labels before feature engineering  \\\n",
              "0                                            1.0   \n",
              "1                                            1.0   \n",
              "2                                            1.0   \n",
              "3                                            1.0   \n",
              "4                                            1.0   \n",
              "..                                           ...   \n",
              "745                                          1.0   \n",
              "746                                          1.0   \n",
              "747                                          1.0   \n",
              "748                                          1.0   \n",
              "749                                          1.0   \n",
              "\n",
              "     Predicted labels after feature engineering  No of new features  \\\n",
              "0                                           1.0                67.0   \n",
              "1                                           1.0                67.0   \n",
              "2                                           1.0                67.0   \n",
              "3                                           1.0                67.0   \n",
              "4                                           1.0                67.0   \n",
              "..                                          ...                 ...   \n",
              "745                                         1.0                67.0   \n",
              "746                                         1.0                67.0   \n",
              "747                                         1.0                67.0   \n",
              "748                                         1.0                67.0   \n",
              "749                                         1.0                67.0   \n",
              "\n",
              "     new_feature_1  new_feature_2  new_feature_3  new_feature_4  \\\n",
              "0        -1.967567       6.945703      -3.947321      -1.108198   \n",
              "1        -6.692310       8.884467      -0.489867     -10.240206   \n",
              "2        -4.810155       3.547653      -0.297522      -5.550987   \n",
              "3        -2.185614       5.993099      -1.089448      -0.938549   \n",
              "4         0.695696       6.181181       1.442544      -3.112025   \n",
              "..             ...            ...            ...            ...   \n",
              "745       0.370687      -1.536461      -7.516708       4.317870   \n",
              "746      11.165413       4.127378      -1.536515      -0.896263   \n",
              "747      -5.593004       2.172272      -2.118896      -1.539570   \n",
              "748      -4.349980       3.831893       3.496943       3.157099   \n",
              "749       3.170687       2.672466      -4.072233       1.804944   \n",
              "\n",
              "     new_feature_5  new_feature_6  new_feature_7  ...  new_feature_247  \\\n",
              "0        -6.440248      -1.053785       3.471608  ...              NaN   \n",
              "1        -4.576115       2.229018      -2.025519  ...              NaN   \n",
              "2        -2.225314      -1.305231      -0.434514  ...              NaN   \n",
              "3         2.566186       4.411621       0.475160  ...              NaN   \n",
              "4        -2.881196      -1.171098       1.626019  ...              NaN   \n",
              "..             ...            ...            ...  ...              ...   \n",
              "745       0.249244      -3.122142       0.695939  ...              NaN   \n",
              "746      -0.214402       0.636541       0.736327  ...              NaN   \n",
              "747       2.049187       4.802564      -5.281143  ...              NaN   \n",
              "748      -2.192043      -0.095471      -0.314058  ...              NaN   \n",
              "749      -6.341352      -2.078463      -1.671187  ...              NaN   \n",
              "\n",
              "     new_feature_248  new_feature_249  new_feature_250  new_feature_251  \\\n",
              "0                NaN              NaN              NaN              NaN   \n",
              "1                NaN              NaN              NaN              NaN   \n",
              "2                NaN              NaN              NaN              NaN   \n",
              "3                NaN              NaN              NaN              NaN   \n",
              "4                NaN              NaN              NaN              NaN   \n",
              "..               ...              ...              ...              ...   \n",
              "745              NaN              NaN              NaN              NaN   \n",
              "746              NaN              NaN              NaN              NaN   \n",
              "747              NaN              NaN              NaN              NaN   \n",
              "748              NaN              NaN              NaN              NaN   \n",
              "749              NaN              NaN              NaN              NaN   \n",
              "\n",
              "     new_feature_252  new_feature_253  new_feature_254  new_feature_255  \\\n",
              "0                NaN              NaN              NaN              NaN   \n",
              "1                NaN              NaN              NaN              NaN   \n",
              "2                NaN              NaN              NaN              NaN   \n",
              "3                NaN              NaN              NaN              NaN   \n",
              "4                NaN              NaN              NaN              NaN   \n",
              "..               ...              ...              ...              ...   \n",
              "745              NaN              NaN              NaN              NaN   \n",
              "746              NaN              NaN              NaN              NaN   \n",
              "747              NaN              NaN              NaN              NaN   \n",
              "748              NaN              NaN              NaN              NaN   \n",
              "749              NaN              NaN              NaN              NaN   \n",
              "\n",
              "     new_feature_256  \n",
              "0                NaN  \n",
              "1                NaN  \n",
              "2                NaN  \n",
              "3                NaN  \n",
              "4                NaN  \n",
              "..               ...  \n",
              "745              NaN  \n",
              "746              NaN  \n",
              "747              NaN  \n",
              "748              NaN  \n",
              "749              NaN  \n",
              "\n",
              "[750 rows x 259 columns]"
            ],
            "text/html": [
              "\n",
              "  <div id=\"df-6ec76575-8d80-4739-aca8-ec19f5cd323a\" class=\"colab-df-container\">\n",
              "    <div>\n",
              "<style scoped>\n",
              "    .dataframe tbody tr th:only-of-type {\n",
              "        vertical-align: middle;\n",
              "    }\n",
              "\n",
              "    .dataframe tbody tr th {\n",
              "        vertical-align: top;\n",
              "    }\n",
              "\n",
              "    .dataframe thead th {\n",
              "        text-align: right;\n",
              "    }\n",
              "</style>\n",
              "<table border=\"1\" class=\"dataframe\">\n",
              "  <thead>\n",
              "    <tr style=\"text-align: right;\">\n",
              "      <th></th>\n",
              "      <th>Predicted labels before feature engineering</th>\n",
              "      <th>Predicted labels after feature engineering</th>\n",
              "      <th>No of new features</th>\n",
              "      <th>new_feature_1</th>\n",
              "      <th>new_feature_2</th>\n",
              "      <th>new_feature_3</th>\n",
              "      <th>new_feature_4</th>\n",
              "      <th>new_feature_5</th>\n",
              "      <th>new_feature_6</th>\n",
              "      <th>new_feature_7</th>\n",
              "      <th>...</th>\n",
              "      <th>new_feature_247</th>\n",
              "      <th>new_feature_248</th>\n",
              "      <th>new_feature_249</th>\n",
              "      <th>new_feature_250</th>\n",
              "      <th>new_feature_251</th>\n",
              "      <th>new_feature_252</th>\n",
              "      <th>new_feature_253</th>\n",
              "      <th>new_feature_254</th>\n",
              "      <th>new_feature_255</th>\n",
              "      <th>new_feature_256</th>\n",
              "    </tr>\n",
              "  </thead>\n",
              "  <tbody>\n",
              "    <tr>\n",
              "      <th>0</th>\n",
              "      <td>1.0</td>\n",
              "      <td>1.0</td>\n",
              "      <td>67.0</td>\n",
              "      <td>-1.967567</td>\n",
              "      <td>6.945703</td>\n",
              "      <td>-3.947321</td>\n",
              "      <td>-1.108198</td>\n",
              "      <td>-6.440248</td>\n",
              "      <td>-1.053785</td>\n",
              "      <td>3.471608</td>\n",
              "      <td>...</td>\n",
              "      <td>NaN</td>\n",
              "      <td>NaN</td>\n",
              "      <td>NaN</td>\n",
              "      <td>NaN</td>\n",
              "      <td>NaN</td>\n",
              "      <td>NaN</td>\n",
              "      <td>NaN</td>\n",
              "      <td>NaN</td>\n",
              "      <td>NaN</td>\n",
              "      <td>NaN</td>\n",
              "    </tr>\n",
              "    <tr>\n",
              "      <th>1</th>\n",
              "      <td>1.0</td>\n",
              "      <td>1.0</td>\n",
              "      <td>67.0</td>\n",
              "      <td>-6.692310</td>\n",
              "      <td>8.884467</td>\n",
              "      <td>-0.489867</td>\n",
              "      <td>-10.240206</td>\n",
              "      <td>-4.576115</td>\n",
              "      <td>2.229018</td>\n",
              "      <td>-2.025519</td>\n",
              "      <td>...</td>\n",
              "      <td>NaN</td>\n",
              "      <td>NaN</td>\n",
              "      <td>NaN</td>\n",
              "      <td>NaN</td>\n",
              "      <td>NaN</td>\n",
              "      <td>NaN</td>\n",
              "      <td>NaN</td>\n",
              "      <td>NaN</td>\n",
              "      <td>NaN</td>\n",
              "      <td>NaN</td>\n",
              "    </tr>\n",
              "    <tr>\n",
              "      <th>2</th>\n",
              "      <td>1.0</td>\n",
              "      <td>1.0</td>\n",
              "      <td>67.0</td>\n",
              "      <td>-4.810155</td>\n",
              "      <td>3.547653</td>\n",
              "      <td>-0.297522</td>\n",
              "      <td>-5.550987</td>\n",
              "      <td>-2.225314</td>\n",
              "      <td>-1.305231</td>\n",
              "      <td>-0.434514</td>\n",
              "      <td>...</td>\n",
              "      <td>NaN</td>\n",
              "      <td>NaN</td>\n",
              "      <td>NaN</td>\n",
              "      <td>NaN</td>\n",
              "      <td>NaN</td>\n",
              "      <td>NaN</td>\n",
              "      <td>NaN</td>\n",
              "      <td>NaN</td>\n",
              "      <td>NaN</td>\n",
              "      <td>NaN</td>\n",
              "    </tr>\n",
              "    <tr>\n",
              "      <th>3</th>\n",
              "      <td>1.0</td>\n",
              "      <td>1.0</td>\n",
              "      <td>67.0</td>\n",
              "      <td>-2.185614</td>\n",
              "      <td>5.993099</td>\n",
              "      <td>-1.089448</td>\n",
              "      <td>-0.938549</td>\n",
              "      <td>2.566186</td>\n",
              "      <td>4.411621</td>\n",
              "      <td>0.475160</td>\n",
              "      <td>...</td>\n",
              "      <td>NaN</td>\n",
              "      <td>NaN</td>\n",
              "      <td>NaN</td>\n",
              "      <td>NaN</td>\n",
              "      <td>NaN</td>\n",
              "      <td>NaN</td>\n",
              "      <td>NaN</td>\n",
              "      <td>NaN</td>\n",
              "      <td>NaN</td>\n",
              "      <td>NaN</td>\n",
              "    </tr>\n",
              "    <tr>\n",
              "      <th>4</th>\n",
              "      <td>1.0</td>\n",
              "      <td>1.0</td>\n",
              "      <td>67.0</td>\n",
              "      <td>0.695696</td>\n",
              "      <td>6.181181</td>\n",
              "      <td>1.442544</td>\n",
              "      <td>-3.112025</td>\n",
              "      <td>-2.881196</td>\n",
              "      <td>-1.171098</td>\n",
              "      <td>1.626019</td>\n",
              "      <td>...</td>\n",
              "      <td>NaN</td>\n",
              "      <td>NaN</td>\n",
              "      <td>NaN</td>\n",
              "      <td>NaN</td>\n",
              "      <td>NaN</td>\n",
              "      <td>NaN</td>\n",
              "      <td>NaN</td>\n",
              "      <td>NaN</td>\n",
              "      <td>NaN</td>\n",
              "      <td>NaN</td>\n",
              "    </tr>\n",
              "    <tr>\n",
              "      <th>...</th>\n",
              "      <td>...</td>\n",
              "      <td>...</td>\n",
              "      <td>...</td>\n",
              "      <td>...</td>\n",
              "      <td>...</td>\n",
              "      <td>...</td>\n",
              "      <td>...</td>\n",
              "      <td>...</td>\n",
              "      <td>...</td>\n",
              "      <td>...</td>\n",
              "      <td>...</td>\n",
              "      <td>...</td>\n",
              "      <td>...</td>\n",
              "      <td>...</td>\n",
              "      <td>...</td>\n",
              "      <td>...</td>\n",
              "      <td>...</td>\n",
              "      <td>...</td>\n",
              "      <td>...</td>\n",
              "      <td>...</td>\n",
              "      <td>...</td>\n",
              "    </tr>\n",
              "    <tr>\n",
              "      <th>745</th>\n",
              "      <td>1.0</td>\n",
              "      <td>1.0</td>\n",
              "      <td>67.0</td>\n",
              "      <td>0.370687</td>\n",
              "      <td>-1.536461</td>\n",
              "      <td>-7.516708</td>\n",
              "      <td>4.317870</td>\n",
              "      <td>0.249244</td>\n",
              "      <td>-3.122142</td>\n",
              "      <td>0.695939</td>\n",
              "      <td>...</td>\n",
              "      <td>NaN</td>\n",
              "      <td>NaN</td>\n",
              "      <td>NaN</td>\n",
              "      <td>NaN</td>\n",
              "      <td>NaN</td>\n",
              "      <td>NaN</td>\n",
              "      <td>NaN</td>\n",
              "      <td>NaN</td>\n",
              "      <td>NaN</td>\n",
              "      <td>NaN</td>\n",
              "    </tr>\n",
              "    <tr>\n",
              "      <th>746</th>\n",
              "      <td>1.0</td>\n",
              "      <td>1.0</td>\n",
              "      <td>67.0</td>\n",
              "      <td>11.165413</td>\n",
              "      <td>4.127378</td>\n",
              "      <td>-1.536515</td>\n",
              "      <td>-0.896263</td>\n",
              "      <td>-0.214402</td>\n",
              "      <td>0.636541</td>\n",
              "      <td>0.736327</td>\n",
              "      <td>...</td>\n",
              "      <td>NaN</td>\n",
              "      <td>NaN</td>\n",
              "      <td>NaN</td>\n",
              "      <td>NaN</td>\n",
              "      <td>NaN</td>\n",
              "      <td>NaN</td>\n",
              "      <td>NaN</td>\n",
              "      <td>NaN</td>\n",
              "      <td>NaN</td>\n",
              "      <td>NaN</td>\n",
              "    </tr>\n",
              "    <tr>\n",
              "      <th>747</th>\n",
              "      <td>1.0</td>\n",
              "      <td>1.0</td>\n",
              "      <td>67.0</td>\n",
              "      <td>-5.593004</td>\n",
              "      <td>2.172272</td>\n",
              "      <td>-2.118896</td>\n",
              "      <td>-1.539570</td>\n",
              "      <td>2.049187</td>\n",
              "      <td>4.802564</td>\n",
              "      <td>-5.281143</td>\n",
              "      <td>...</td>\n",
              "      <td>NaN</td>\n",
              "      <td>NaN</td>\n",
              "      <td>NaN</td>\n",
              "      <td>NaN</td>\n",
              "      <td>NaN</td>\n",
              "      <td>NaN</td>\n",
              "      <td>NaN</td>\n",
              "      <td>NaN</td>\n",
              "      <td>NaN</td>\n",
              "      <td>NaN</td>\n",
              "    </tr>\n",
              "    <tr>\n",
              "      <th>748</th>\n",
              "      <td>1.0</td>\n",
              "      <td>1.0</td>\n",
              "      <td>67.0</td>\n",
              "      <td>-4.349980</td>\n",
              "      <td>3.831893</td>\n",
              "      <td>3.496943</td>\n",
              "      <td>3.157099</td>\n",
              "      <td>-2.192043</td>\n",
              "      <td>-0.095471</td>\n",
              "      <td>-0.314058</td>\n",
              "      <td>...</td>\n",
              "      <td>NaN</td>\n",
              "      <td>NaN</td>\n",
              "      <td>NaN</td>\n",
              "      <td>NaN</td>\n",
              "      <td>NaN</td>\n",
              "      <td>NaN</td>\n",
              "      <td>NaN</td>\n",
              "      <td>NaN</td>\n",
              "      <td>NaN</td>\n",
              "      <td>NaN</td>\n",
              "    </tr>\n",
              "    <tr>\n",
              "      <th>749</th>\n",
              "      <td>1.0</td>\n",
              "      <td>1.0</td>\n",
              "      <td>67.0</td>\n",
              "      <td>3.170687</td>\n",
              "      <td>2.672466</td>\n",
              "      <td>-4.072233</td>\n",
              "      <td>1.804944</td>\n",
              "      <td>-6.341352</td>\n",
              "      <td>-2.078463</td>\n",
              "      <td>-1.671187</td>\n",
              "      <td>...</td>\n",
              "      <td>NaN</td>\n",
              "      <td>NaN</td>\n",
              "      <td>NaN</td>\n",
              "      <td>NaN</td>\n",
              "      <td>NaN</td>\n",
              "      <td>NaN</td>\n",
              "      <td>NaN</td>\n",
              "      <td>NaN</td>\n",
              "      <td>NaN</td>\n",
              "      <td>NaN</td>\n",
              "    </tr>\n",
              "  </tbody>\n",
              "</table>\n",
              "<p>750 rows × 259 columns</p>\n",
              "</div>\n",
              "    <div class=\"colab-df-buttons\">\n",
              "\n",
              "  <div class=\"colab-df-container\">\n",
              "    <button class=\"colab-df-convert\" onclick=\"convertToInteractive('df-6ec76575-8d80-4739-aca8-ec19f5cd323a')\"\n",
              "            title=\"Convert this dataframe to an interactive table.\"\n",
              "            style=\"display:none;\">\n",
              "\n",
              "  <svg xmlns=\"http://www.w3.org/2000/svg\" height=\"24px\" viewBox=\"0 -960 960 960\">\n",
              "    <path d=\"M120-120v-720h720v720H120Zm60-500h600v-160H180v160Zm220 220h160v-160H400v160Zm0 220h160v-160H400v160ZM180-400h160v-160H180v160Zm440 0h160v-160H620v160ZM180-180h160v-160H180v160Zm440 0h160v-160H620v160Z\"/>\n",
              "  </svg>\n",
              "    </button>\n",
              "\n",
              "  <style>\n",
              "    .colab-df-container {\n",
              "      display:flex;\n",
              "      gap: 12px;\n",
              "    }\n",
              "\n",
              "    .colab-df-convert {\n",
              "      background-color: #E8F0FE;\n",
              "      border: none;\n",
              "      border-radius: 50%;\n",
              "      cursor: pointer;\n",
              "      display: none;\n",
              "      fill: #1967D2;\n",
              "      height: 32px;\n",
              "      padding: 0 0 0 0;\n",
              "      width: 32px;\n",
              "    }\n",
              "\n",
              "    .colab-df-convert:hover {\n",
              "      background-color: #E2EBFA;\n",
              "      box-shadow: 0px 1px 2px rgba(60, 64, 67, 0.3), 0px 1px 3px 1px rgba(60, 64, 67, 0.15);\n",
              "      fill: #174EA6;\n",
              "    }\n",
              "\n",
              "    .colab-df-buttons div {\n",
              "      margin-bottom: 4px;\n",
              "    }\n",
              "\n",
              "    [theme=dark] .colab-df-convert {\n",
              "      background-color: #3B4455;\n",
              "      fill: #D2E3FC;\n",
              "    }\n",
              "\n",
              "    [theme=dark] .colab-df-convert:hover {\n",
              "      background-color: #434B5C;\n",
              "      box-shadow: 0px 1px 3px 1px rgba(0, 0, 0, 0.15);\n",
              "      filter: drop-shadow(0px 1px 2px rgba(0, 0, 0, 0.3));\n",
              "      fill: #FFFFFF;\n",
              "    }\n",
              "  </style>\n",
              "\n",
              "    <script>\n",
              "      const buttonEl =\n",
              "        document.querySelector('#df-6ec76575-8d80-4739-aca8-ec19f5cd323a button.colab-df-convert');\n",
              "      buttonEl.style.display =\n",
              "        google.colab.kernel.accessAllowed ? 'block' : 'none';\n",
              "\n",
              "      async function convertToInteractive(key) {\n",
              "        const element = document.querySelector('#df-6ec76575-8d80-4739-aca8-ec19f5cd323a');\n",
              "        const dataTable =\n",
              "          await google.colab.kernel.invokeFunction('convertToInteractive',\n",
              "                                                    [key], {});\n",
              "        if (!dataTable) return;\n",
              "\n",
              "        const docLinkHtml = 'Like what you see? Visit the ' +\n",
              "          '<a target=\"_blank\" href=https://colab.research.google.com/notebooks/data_table.ipynb>data table notebook</a>'\n",
              "          + ' to learn more about interactive tables.';\n",
              "        element.innerHTML = '';\n",
              "        dataTable['output_type'] = 'display_data';\n",
              "        await google.colab.output.renderOutput(dataTable, element);\n",
              "        const docLink = document.createElement('div');\n",
              "        docLink.innerHTML = docLinkHtml;\n",
              "        element.appendChild(docLink);\n",
              "      }\n",
              "    </script>\n",
              "  </div>\n",
              "\n",
              "\n",
              "<div id=\"df-c1d897fd-9103-45ed-95b2-4ff6ff5f4e3f\">\n",
              "  <button class=\"colab-df-quickchart\" onclick=\"quickchart('df-c1d897fd-9103-45ed-95b2-4ff6ff5f4e3f')\"\n",
              "            title=\"Suggest charts.\"\n",
              "            style=\"display:none;\">\n",
              "\n",
              "<svg xmlns=\"http://www.w3.org/2000/svg\" height=\"24px\"viewBox=\"0 0 24 24\"\n",
              "     width=\"24px\">\n",
              "    <g>\n",
              "        <path d=\"M19 3H5c-1.1 0-2 .9-2 2v14c0 1.1.9 2 2 2h14c1.1 0 2-.9 2-2V5c0-1.1-.9-2-2-2zM9 17H7v-7h2v7zm4 0h-2V7h2v10zm4 0h-2v-4h2v4z\"/>\n",
              "    </g>\n",
              "</svg>\n",
              "  </button>\n",
              "\n",
              "<style>\n",
              "  .colab-df-quickchart {\n",
              "      --bg-color: #E8F0FE;\n",
              "      --fill-color: #1967D2;\n",
              "      --hover-bg-color: #E2EBFA;\n",
              "      --hover-fill-color: #174EA6;\n",
              "      --disabled-fill-color: #AAA;\n",
              "      --disabled-bg-color: #DDD;\n",
              "  }\n",
              "\n",
              "  [theme=dark] .colab-df-quickchart {\n",
              "      --bg-color: #3B4455;\n",
              "      --fill-color: #D2E3FC;\n",
              "      --hover-bg-color: #434B5C;\n",
              "      --hover-fill-color: #FFFFFF;\n",
              "      --disabled-bg-color: #3B4455;\n",
              "      --disabled-fill-color: #666;\n",
              "  }\n",
              "\n",
              "  .colab-df-quickchart {\n",
              "    background-color: var(--bg-color);\n",
              "    border: none;\n",
              "    border-radius: 50%;\n",
              "    cursor: pointer;\n",
              "    display: none;\n",
              "    fill: var(--fill-color);\n",
              "    height: 32px;\n",
              "    padding: 0;\n",
              "    width: 32px;\n",
              "  }\n",
              "\n",
              "  .colab-df-quickchart:hover {\n",
              "    background-color: var(--hover-bg-color);\n",
              "    box-shadow: 0 1px 2px rgba(60, 64, 67, 0.3), 0 1px 3px 1px rgba(60, 64, 67, 0.15);\n",
              "    fill: var(--button-hover-fill-color);\n",
              "  }\n",
              "\n",
              "  .colab-df-quickchart-complete:disabled,\n",
              "  .colab-df-quickchart-complete:disabled:hover {\n",
              "    background-color: var(--disabled-bg-color);\n",
              "    fill: var(--disabled-fill-color);\n",
              "    box-shadow: none;\n",
              "  }\n",
              "\n",
              "  .colab-df-spinner {\n",
              "    border: 2px solid var(--fill-color);\n",
              "    border-color: transparent;\n",
              "    border-bottom-color: var(--fill-color);\n",
              "    animation:\n",
              "      spin 1s steps(1) infinite;\n",
              "  }\n",
              "\n",
              "  @keyframes spin {\n",
              "    0% {\n",
              "      border-color: transparent;\n",
              "      border-bottom-color: var(--fill-color);\n",
              "      border-left-color: var(--fill-color);\n",
              "    }\n",
              "    20% {\n",
              "      border-color: transparent;\n",
              "      border-left-color: var(--fill-color);\n",
              "      border-top-color: var(--fill-color);\n",
              "    }\n",
              "    30% {\n",
              "      border-color: transparent;\n",
              "      border-left-color: var(--fill-color);\n",
              "      border-top-color: var(--fill-color);\n",
              "      border-right-color: var(--fill-color);\n",
              "    }\n",
              "    40% {\n",
              "      border-color: transparent;\n",
              "      border-right-color: var(--fill-color);\n",
              "      border-top-color: var(--fill-color);\n",
              "    }\n",
              "    60% {\n",
              "      border-color: transparent;\n",
              "      border-right-color: var(--fill-color);\n",
              "    }\n",
              "    80% {\n",
              "      border-color: transparent;\n",
              "      border-right-color: var(--fill-color);\n",
              "      border-bottom-color: var(--fill-color);\n",
              "    }\n",
              "    90% {\n",
              "      border-color: transparent;\n",
              "      border-bottom-color: var(--fill-color);\n",
              "    }\n",
              "  }\n",
              "</style>\n",
              "\n",
              "  <script>\n",
              "    async function quickchart(key) {\n",
              "      const quickchartButtonEl =\n",
              "        document.querySelector('#' + key + ' button');\n",
              "      quickchartButtonEl.disabled = true;  // To prevent multiple clicks.\n",
              "      quickchartButtonEl.classList.add('colab-df-spinner');\n",
              "      try {\n",
              "        const charts = await google.colab.kernel.invokeFunction(\n",
              "            'suggestCharts', [key], {});\n",
              "      } catch (error) {\n",
              "        console.error('Error during call to suggestCharts:', error);\n",
              "      }\n",
              "      quickchartButtonEl.classList.remove('colab-df-spinner');\n",
              "      quickchartButtonEl.classList.add('colab-df-quickchart-complete');\n",
              "    }\n",
              "    (() => {\n",
              "      let quickchartButtonEl =\n",
              "        document.querySelector('#df-c1d897fd-9103-45ed-95b2-4ff6ff5f4e3f button');\n",
              "      quickchartButtonEl.style.display =\n",
              "        google.colab.kernel.accessAllowed ? 'block' : 'none';\n",
              "    })();\n",
              "  </script>\n",
              "</div>\n",
              "    </div>\n",
              "  </div>\n"
            ]
          },
          "metadata": {},
          "execution_count": 72
        }
      ]
    },
    {
      "cell_type": "code",
      "source": [
        "for label_idx in range(len(labels)):\n",
        "  df = create_dataframe_for_label(label_idx)\n",
        "  df.to_csv(output_path + file_prefix + labels[label_idx] + \".csv\", index=False)"
      ],
      "metadata": {
        "id": "zRzRQppX-DTM"
      },
      "execution_count": null,
      "outputs": []
    }
  ]
}